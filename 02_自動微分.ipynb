{
  "nbformat": 4,
  "nbformat_minor": 0,
  "metadata": {
    "colab": {
      "name": "自動微分.ipynb",
      "provenance": [],
      "toc_visible": true,
      "authorship_tag": "ABX9TyNl48mH3G84D+NvZTmUn7Di",
      "include_colab_link": true
    },
    "kernelspec": {
      "name": "python3",
      "display_name": "Python 3"
    },
    "language_info": {
      "name": "python"
    }
  },
  "cells": [
    {
      "cell_type": "markdown",
      "metadata": {
        "id": "view-in-github",
        "colab_type": "text"
      },
      "source": [
        "<a href=\"https://colab.research.google.com/github/isoittech/udemy-Hands-on-PyTorch/blob/main/%E8%87%AA%E5%8B%95%E5%BE%AE%E5%88%86.ipynb\" target=\"_parent\"><img src=\"https://colab.research.google.com/assets/colab-badge.svg\" alt=\"Open In Colab\"/></a>"
      ]
    },
    {
      "cell_type": "code",
      "metadata": {
        "id": "5rMcyDs46xs0"
      },
      "source": [
        "# 誤差逆伝播がうらで行われている\n",
        "\n",
        "import torch"
      ],
      "execution_count": 1,
      "outputs": []
    },
    {
      "cell_type": "markdown",
      "metadata": {
        "id": "lYH4i1n97Poy"
      },
      "source": [
        "$y = 3 x^{3}**太字**$\n",
        "\n",
        "$\\frac{dy}{dx} = 3\\times 3 x^{2}$"
      ]
    },
    {
      "cell_type": "code",
      "metadata": {
        "id": "1OXqt18X7HlU"
      },
      "source": [
        "x = torch.tensor([2], dtype=torch.float32, requires_grad=True)"
      ],
      "execution_count": 2,
      "outputs": []
    },
    {
      "cell_type": "code",
      "metadata": {
        "id": "Ne5Vm4ih9Y4Y"
      },
      "source": [
        ""
      ],
      "execution_count": null,
      "outputs": []
    },
    {
      "cell_type": "code",
      "metadata": {
        "id": "dd_nplUk8TfR"
      },
      "source": [
        "y = 3 * x ** 3"
      ],
      "execution_count": 3,
      "outputs": []
    },
    {
      "cell_type": "code",
      "metadata": {
        "id": "binVORJu8hsJ"
      },
      "source": [
        "y.backward()"
      ],
      "execution_count": 4,
      "outputs": []
    },
    {
      "cell_type": "code",
      "metadata": {
        "colab": {
          "base_uri": "https://localhost:8080/"
        },
        "id": "r9DTk_Il8ltw",
        "outputId": "d4325190-d09e-47e8-95cb-892df50681ee"
      },
      "source": [
        "x.grad"
      ],
      "execution_count": 5,
      "outputs": [
        {
          "output_type": "execute_result",
          "data": {
            "text/plain": [
              "tensor([36.])"
            ]
          },
          "metadata": {},
          "execution_count": 5
        }
      ]
    },
    {
      "cell_type": "code",
      "metadata": {
        "id": "p8xg5Jbs9ayZ"
      },
      "source": [
        "x1 = torch.tensor([4], dtype=torch.float32, requires_grad=True)\n",
        "x2 = torch.tensor([2], dtype=torch.float32, requires_grad=True)\n",
        "\n",
        "y = 2 * x1 ** 2 + 3 * x2 ** 3"
      ],
      "execution_count": 7,
      "outputs": []
    },
    {
      "cell_type": "code",
      "metadata": {
        "id": "ezvzURMy9tQx"
      },
      "source": [
        "y.backward()"
      ],
      "execution_count": 8,
      "outputs": []
    },
    {
      "cell_type": "code",
      "metadata": {
        "colab": {
          "base_uri": "https://localhost:8080/"
        },
        "id": "n5eq-qlE9wxJ",
        "outputId": "c68faba0-ed5c-4f0a-ab5e-d16bd0262013"
      },
      "source": [
        "x1.grad\n"
      ],
      "execution_count": 9,
      "outputs": [
        {
          "output_type": "execute_result",
          "data": {
            "text/plain": [
              "tensor([16.])"
            ]
          },
          "metadata": {},
          "execution_count": 9
        }
      ]
    },
    {
      "cell_type": "markdown",
      "metadata": {
        "id": "OfqzB3zb9-h3"
      },
      "source": [
        ""
      ]
    },
    {
      "cell_type": "code",
      "metadata": {
        "id": "5gI9bhjh92AI"
      },
      "source": [
        ""
      ],
      "execution_count": null,
      "outputs": []
    }
  ]
}
