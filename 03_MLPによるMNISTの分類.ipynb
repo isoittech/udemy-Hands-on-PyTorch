{
  "nbformat": 4,
  "nbformat_minor": 0,
  "metadata": {
    "colab": {
      "name": "03_MLPによるMNISTの分類.ipynb",
      "provenance": [],
      "collapsed_sections": [],
      "authorship_tag": "ABX9TyOkPAbomgfpoMKXIUTUA7vO",
      "include_colab_link": true
    },
    "kernelspec": {
      "name": "python3",
      "display_name": "Python 3"
    },
    "language_info": {
      "name": "python"
    },
    "accelerator": "GPU"
  },
  "cells": [
    {
      "cell_type": "markdown",
      "metadata": {
        "id": "view-in-github",
        "colab_type": "text"
      },
      "source": [
        "<a href=\"https://colab.research.google.com/github/isoittech/udemy-Hands-on-PyTorch/blob/main/03_MLP%E3%81%AB%E3%82%88%E3%82%8BMNIST%E3%81%AE%E5%88%86%E9%A1%9E.ipynb\" target=\"_parent\"><img src=\"https://colab.research.google.com/assets/colab-badge.svg\" alt=\"Open In Colab\"/></a>"
      ]
    },
    {
      "cell_type": "code",
      "metadata": {
        "id": "LAMyctq-gDPv"
      },
      "source": [
        "import torch\n",
        "import torch.nn as nn\n",
        "import torch.optim as optim\n",
        "import numpy as np\n",
        "import matplotlib.pyplot as plt\n",
        "import seaborn as sns\n",
        "from torchvision import datasets, transforms\n",
        "from torch.utils.data import DataLoader"
      ],
      "execution_count": 25,
      "outputs": []
    },
    {
      "cell_type": "code",
      "metadata": {
        "colab": {
          "base_uri": "https://localhost:8080/",
          "height": 35
        },
        "id": "EzvEbruogjXn",
        "outputId": "92648276-3da1-406e-95c5-8c25e261da9d"
      },
      "source": [
        "device = \"cuda\" if torch.cuda.is_available() else \"cpu\"\n",
        "device"
      ],
      "execution_count": 26,
      "outputs": [
        {
          "output_type": "execute_result",
          "data": {
            "application/vnd.google.colaboratory.intrinsic+json": {
              "type": "string"
            },
            "text/plain": [
              "'cuda'"
            ]
          },
          "metadata": {},
          "execution_count": 26
        }
      ]
    },
    {
      "cell_type": "code",
      "metadata": {
        "id": "NzkUSbOZgzMf"
      },
      "source": [
        "transform = transforms.Compose([\n",
        "    transforms.ToTensor()\n",
        "])\n",
        "train_dataset = datasets.MNIST(root=\"./data\", train=True, download=True, transform=transform)"
      ],
      "execution_count": 27,
      "outputs": []
    },
    {
      "cell_type": "code",
      "metadata": {
        "id": "GdouDHsLhUcG"
      },
      "source": [
        "num_batches = 100"
      ],
      "execution_count": 28,
      "outputs": []
    },
    {
      "cell_type": "code",
      "metadata": {
        "id": "E1JY5i88hanF"
      },
      "source": [
        "train_dataloader = DataLoader(train_dataset, batch_size=num_batches, shuffle=True)"
      ],
      "execution_count": 29,
      "outputs": []
    },
    {
      "cell_type": "code",
      "metadata": {
        "id": "6ebev2JzhkR8"
      },
      "source": [
        "train_iter = iter(train_dataloader)"
      ],
      "execution_count": 30,
      "outputs": []
    },
    {
      "cell_type": "code",
      "metadata": {
        "id": "aSFo8obphp3s"
      },
      "source": [
        "imgs, labels = train_iter.next()"
      ],
      "execution_count": 31,
      "outputs": []
    },
    {
      "cell_type": "code",
      "metadata": {
        "colab": {
          "base_uri": "https://localhost:8080/"
        },
        "id": "arBEr1SYhu4D",
        "outputId": "2e40d28f-81f9-46c5-9af5-00c4d6bb6234"
      },
      "source": [
        "imgs.size()"
      ],
      "execution_count": 32,
      "outputs": [
        {
          "output_type": "execute_result",
          "data": {
            "text/plain": [
              "torch.Size([100, 1, 28, 28])"
            ]
          },
          "metadata": {},
          "execution_count": 32
        }
      ]
    },
    {
      "cell_type": "code",
      "metadata": {
        "colab": {
          "base_uri": "https://localhost:8080/"
        },
        "id": "9WNppvnehySE",
        "outputId": "cb4b7bec-47fc-45cc-dc65-5548f5bb564e"
      },
      "source": [
        "labels"
      ],
      "execution_count": 33,
      "outputs": [
        {
          "output_type": "execute_result",
          "data": {
            "text/plain": [
              "tensor([7, 4, 3, 3, 1, 0, 2, 2, 6, 9, 2, 4, 4, 1, 7, 4, 0, 9, 4, 1, 9, 3, 2, 1,\n",
              "        1, 5, 7, 4, 8, 8, 6, 8, 0, 7, 1, 9, 4, 9, 4, 2, 1, 6, 4, 3, 7, 3, 6, 1,\n",
              "        0, 0, 1, 6, 8, 7, 6, 1, 7, 3, 0, 7, 8, 6, 5, 6, 9, 4, 6, 7, 9, 6, 6, 7,\n",
              "        3, 5, 8, 2, 9, 3, 3, 6, 0, 3, 1, 1, 7, 3, 7, 2, 6, 2, 7, 7, 1, 5, 9, 1,\n",
              "        2, 2, 6, 5])"
            ]
          },
          "metadata": {},
          "execution_count": 33
        }
      ]
    },
    {
      "cell_type": "code",
      "metadata": {
        "id": "d5lsH6iqh6gF"
      },
      "source": [
        "img = imgs[0]\n",
        "img_permute = img.permute(1, 2, 0)"
      ],
      "execution_count": 34,
      "outputs": []
    },
    {
      "cell_type": "code",
      "metadata": {
        "colab": {
          "base_uri": "https://localhost:8080/",
          "height": 286
        },
        "id": "3UqDRVjAiEqV",
        "outputId": "60c46018-f86b-4600-d273-a2ae2983a7c7"
      },
      "source": [
        "sns.heatmap(img_permute.numpy()[:, :, 0])"
      ],
      "execution_count": 35,
      "outputs": [
        {
          "output_type": "execute_result",
          "data": {
            "text/plain": [
              "<matplotlib.axes._subplots.AxesSubplot at 0x7f147bf66f50>"
            ]
          },
          "metadata": {},
          "execution_count": 35
        },
        {
          "output_type": "display_data",
          "data": {
            "image/png": "[encoded data removed]",
            "text/plain": [
              "<Figure size 432x288 with 2 Axes>"
            ]
          },
          "metadata": {
            "needs_background": "light"
          }
        }
      ]
    },
    {
      "cell_type": "code",
      "metadata": {
        "colab": {
          "base_uri": "https://localhost:8080/"
        },
        "id": "VSyFKU9yiXD0",
        "outputId": "3f6c72d5-25a8-4c0d-e0c1-b006c234878a"
      },
      "source": [
        "labels[0]"
      ],
      "execution_count": 36,
      "outputs": [
        {
          "output_type": "execute_result",
          "data": {
            "text/plain": [
              "tensor(7)"
            ]
          },
          "metadata": {},
          "execution_count": 36
        }
      ]
    },
    {
      "cell_type": "code",
      "metadata": {
        "id": "_qyzGEejiaRE"
      },
      "source": [
        "class MLP(nn.Module):\n",
        "    def __init__(self):\n",
        "        super().__init__()\n",
        "        self.classifier = nn.Sequential(\n",
        "            nn.Linear(28 * 28, 400),\n",
        "            nn.ReLU(inplace=True), # ReLuを実行したあとにもとの配列を置き換える（メモリ節約のため）\n",
        "            nn.Linear(400, 200),\n",
        "            nn.ReLU(inplace=True),\n",
        "            nn.Linear(200, 100),\n",
        "            nn.ReLU(inplace=True),\n",
        "            nn.Linear(100, 10),\n",
        "        )\n",
        "    def forward(self, x):\n",
        "        output = self.classifier(x)\n",
        "        return output\n",
        "        "
      ],
      "execution_count": 37,
      "outputs": []
    },
    {
      "cell_type": "code",
      "metadata": {
        "id": "YoNgLC9wjKBk"
      },
      "source": [
        "model = MLP()"
      ],
      "execution_count": 38,
      "outputs": []
    },
    {
      "cell_type": "code",
      "metadata": {
        "colab": {
          "base_uri": "https://localhost:8080/"
        },
        "id": "W6wSjxUYjL6j",
        "outputId": "46562b38-585f-49dc-8227-cf6304e9024a"
      },
      "source": [
        "model.to(device)"
      ],
      "execution_count": 39,
      "outputs": [
        {
          "output_type": "execute_result",
          "data": {
            "text/plain": [
              "MLP(\n",
              "  (classifier): Sequential(\n",
              "    (0): Linear(in_features=784, out_features=400, bias=True)\n",
              "    (1): ReLU(inplace=True)\n",
              "    (2): Linear(in_features=400, out_features=200, bias=True)\n",
              "    (3): ReLU(inplace=True)\n",
              "    (4): Linear(in_features=200, out_features=100, bias=True)\n",
              "    (5): ReLU(inplace=True)\n",
              "    (6): Linear(in_features=100, out_features=10, bias=True)\n",
              "  )\n",
              ")"
            ]
          },
          "metadata": {},
          "execution_count": 39
        }
      ]
    },
    {
      "cell_type": "code",
      "metadata": {
        "id": "cBLxF8DUjRib"
      },
      "source": [
        "criterion = nn.CrossEntropyLoss()\n",
        "optimizer = optim.Adam(model.parameters(), lr=0.001)"
      ],
      "execution_count": 40,
      "outputs": []
    },
    {
      "cell_type": "code",
      "metadata": {
        "colab": {
          "base_uri": "https://localhost:8080/"
        },
        "id": "hvTTT4N3jgeK",
        "outputId": "69bafb31-c66e-4650-8773-fee71c7c2f1f"
      },
      "source": [
        "num_epochs = 15\n",
        "losses = []\n",
        "accs = []\n",
        "for epoch in range(num_epochs):\n",
        "    running_loss = 0.0\n",
        "    running_acc = 0.0\n",
        "    for imgs, labels in train_dataloader:\n",
        "        imgs = imgs.view(num_batches, -1)\n",
        "        imgs = imgs.to(device)\n",
        "        labels = labels.to(device)\n",
        "        optimizer.zero_grad()\n",
        "        output = model(imgs)\n",
        "        loss = criterion(output, labels)\n",
        "        running_loss += loss.item()\n",
        "        pred = torch.argmax(output, dim=1) # 0~9（1次元目）の要素のうちの最大の要素番号を返す？\n",
        "        running_acc += torch.mean(pred.eq(labels).float())\n",
        "        loss.backward()\n",
        "        optimizer.step()\n",
        "    running_loss /= len(train_dataloader) # 平均を出している\n",
        "    running_acc /= len(train_dataloader)\n",
        "    losses.append(running_loss)\n",
        "    accs.append(running_acc)\n",
        "    print(\"epoch: {}, loss: {}, acc: {}\".format(epoch, running_loss, running_acc))"
      ],
      "execution_count": 42,
      "outputs": [
        {
          "output_type": "stream",
          "name": "stdout",
          "text": [
            "epoch: 0, loss: 0.3095332986737291, acc: 0.9068682193756104\n",
            "epoch: 1, loss: 0.10697505920194089, acc: 0.9674170017242432\n",
            "epoch: 2, loss: 0.0713028261026678, acc: 0.9780828356742859\n",
            "epoch: 3, loss: 0.05027869685048548, acc: 0.984248161315918\n",
            "epoch: 4, loss: 0.0383717038493099, acc: 0.9881654977798462\n",
            "epoch: 5, loss: 0.030900070964513967, acc: 0.9896648526191711\n",
            "epoch: 6, loss: 0.024822545779218975, acc: 0.991931676864624\n",
            "epoch: 7, loss: 0.020392936784240496, acc: 0.9933154582977295\n",
            "epoch: 8, loss: 0.019750088259315818, acc: 0.9935148358345032\n",
            "epoch: 9, loss: 0.01585252757876636, acc: 0.994598925113678\n",
            "epoch: 10, loss: 0.015717284771732617, acc: 0.9947315454483032\n",
            "epoch: 11, loss: 0.014472873473141589, acc: 0.995165228843689\n",
            "epoch: 12, loss: 0.011432989082592637, acc: 0.9963321089744568\n",
            "epoch: 13, loss: 0.011689756046580442, acc: 0.9963324069976807\n",
            "epoch: 14, loss: 0.01156235442080894, acc: 0.9962988495826721\n"
          ]
        }
      ]
    },
    {
      "cell_type": "code",
      "metadata": {
        "colab": {
          "base_uri": "https://localhost:8080/",
          "height": 282
        },
        "id": "Mj_Fk3NFmva4",
        "outputId": "408702c9-fc5a-48a5-f8d0-7173b72f6b25"
      },
      "source": [
        "plt.plot(losses)"
      ],
      "execution_count": 43,
      "outputs": [
        {
          "output_type": "execute_result",
          "data": {
            "text/plain": [
              "[<matplotlib.lines.Line2D at 0x7f14b9c0c790>]"
            ]
          },
          "metadata": {},
          "execution_count": 43
        },
        {
          "output_type": "display_data",
          "data": {
            "image/png": "[encoded data removed]",
            "text/plain": [
              "<Figure size 432x288 with 1 Axes>"
            ]
          },
          "metadata": {
            "needs_background": "light"
          }
        }
      ]
    },
    {
      "cell_type": "code",
      "metadata": {
        "colab": {
          "base_uri": "https://localhost:8080/",
          "height": 285
        },
        "id": "WAJdgS_ImyuQ",
        "outputId": "5d812204-108d-4f3a-ef7e-0a9c3c6b9d98"
      },
      "source": [
        "plt.plot(accs)"
      ],
      "execution_count": 44,
      "outputs": [
        {
          "output_type": "execute_result",
          "data": {
            "text/plain": [
              "[<matplotlib.lines.Line2D at 0x7f14b9b80310>]"
            ]
          },
          "metadata": {},
          "execution_count": 44
        },
        {
          "output_type": "display_data",
          "data": {
            "image/png": "[encoded data removed]",
            "text/plain": [
              "<Figure size 432x288 with 1 Axes>"
            ]
          },
          "metadata": {
            "needs_background": "light"
          }
        }
      ]
    },
    {
      "cell_type": "code",
      "metadata": {
        "colab": {
          "base_uri": "https://localhost:8080/"
        },
        "id": "SBsWSgolnAlh",
        "outputId": "8b1c65c2-7407-46de-dadd-87ab74ec377e"
      },
      "source": [
        "train_iter = iter(train_dataloader)\n",
        "imgs, labels = train_iter.next()\n",
        "labels"
      ],
      "execution_count": 45,
      "outputs": [
        {
          "output_type": "execute_result",
          "data": {
            "text/plain": [
              "tensor([0, 5, 4, 0, 7, 9, 6, 4, 0, 3, 7, 0, 3, 4, 1, 4, 6, 9, 2, 1, 1, 6, 4, 5,\n",
              "        0, 2, 7, 8, 2, 8, 9, 8, 2, 0, 0, 5, 3, 6, 0, 1, 7, 2, 4, 1, 3, 1, 9, 7,\n",
              "        2, 6, 7, 1, 5, 0, 4, 6, 6, 2, 9, 2, 9, 8, 5, 8, 9, 8, 4, 0, 3, 2, 7, 6,\n",
              "        2, 2, 5, 2, 0, 9, 8, 9, 5, 6, 9, 0, 7, 3, 8, 5, 3, 2, 7, 0, 1, 5, 7, 9,\n",
              "        4, 3, 0, 0])"
            ]
          },
          "metadata": {},
          "execution_count": 45
        }
      ]
    },
    {
      "cell_type": "code",
      "metadata": {
        "id": "w1tRbGORnHj_"
      },
      "source": [
        "imgs_gpu = imgs.view(100, -1).to(device)\n",
        "output = model(imgs_gpu)"
      ],
      "execution_count": 46,
      "outputs": []
    },
    {
      "cell_type": "code",
      "metadata": {
        "colab": {
          "base_uri": "https://localhost:8080/"
        },
        "id": "IPbssyk4nUQP",
        "outputId": "98be6a82-5721-4907-cea7-67e56d62a475"
      },
      "source": [
        "pred = torch.argmax(output, dim=1)\n",
        "pred"
      ],
      "execution_count": 48,
      "outputs": [
        {
          "output_type": "execute_result",
          "data": {
            "text/plain": [
              "tensor([0, 5, 4, 0, 7, 9, 6, 4, 0, 3, 7, 0, 3, 4, 1, 4, 6, 9, 2, 1, 1, 6, 4, 5,\n",
              "        0, 2, 7, 8, 2, 8, 9, 8, 2, 0, 0, 5, 3, 6, 0, 1, 7, 2, 4, 1, 3, 1, 9, 7,\n",
              "        2, 6, 7, 1, 5, 0, 4, 6, 6, 2, 9, 2, 9, 8, 5, 8, 9, 8, 4, 0, 3, 2, 7, 6,\n",
              "        2, 2, 5, 2, 0, 9, 8, 9, 5, 6, 9, 0, 7, 3, 8, 5, 3, 2, 7, 0, 1, 5, 7, 9,\n",
              "        4, 3, 0, 0], device='cuda:0')"
            ]
          },
          "metadata": {},
          "execution_count": 48
        }
      ]
    },
    {
      "cell_type": "code",
      "metadata": {
        "colab": {
          "base_uri": "https://localhost:8080/"
        },
        "id": "PV8gukpOnn-e",
        "outputId": "cab7f715-4203-47ea-d62e-434225693d3a"
      },
      "source": [
        "params = model.state_dict()\n",
        "params"
      ],
      "execution_count": 49,
      "outputs": [
        {
          "output_type": "execute_result",
          "data": {
            "text/plain": [
              "OrderedDict([('classifier.0.weight',\n",
              "              tensor([[ 0.0028, -0.0049, -0.0203,  ...,  0.0151,  0.0070, -0.0343],\n",
              "                      [ 0.0276,  0.0226,  0.0176,  ...,  0.0323, -0.0342, -0.0227],\n",
              "                      [-0.0092,  0.0191, -0.0338,  ..., -0.0327, -0.0194,  0.0187],\n",
              "                      ...,\n",
              "                      [ 0.0310,  0.0284,  0.0246,  ...,  0.0294, -0.0309,  0.0075],\n",
              "                      [ 0.0107, -0.0342,  0.0065,  ..., -0.0187,  0.0234,  0.0287],\n",
              "                      [-0.0091, -0.0349,  0.0192,  ..., -0.0352,  0.0063, -0.0182]],\n",
              "                     device='cuda:0')),\n",
              "             ('classifier.0.bias',\n",
              "              tensor([ 6.0358e-04, -3.2880e-02,  3.4962e-03,  1.7132e-02, -6.4008e-03,\n",
              "                       3.4883e-02,  2.3473e-02, -1.1196e-01,  7.7149e-02,  7.9009e-03,\n",
              "                      -6.7212e-02,  8.4167e-03, -5.7353e-02,  7.6796e-02, -4.3595e-03,\n",
              "                      -5.0666e-04,  5.9804e-02, -3.3992e-02,  1.8706e-02,  6.8760e-03,\n",
              "                      -2.8569e-02,  5.4164e-02, -8.7105e-03,  2.0646e-02, -4.0970e-03,\n",
              "                       4.6519e-02, -3.6005e-02,  6.0652e-02,  4.0540e-02,  2.4649e-02,\n",
              "                       4.4213e-02,  2.1253e-02,  4.8615e-02,  3.3361e-02,  3.6592e-02,\n",
              "                      -1.8368e-03,  8.0815e-02,  5.8374e-02, -3.8642e-03,  1.5919e-01,\n",
              "                       1.3468e-01,  9.3094e-03, -4.7351e-02, -6.4933e-02,  1.0322e-02,\n",
              "                       1.3026e-01,  3.8125e-02,  3.0305e-02,  2.1472e-02, -4.2400e-03,\n",
              "                       8.8299e-02,  5.1495e-02,  1.8770e-02, -1.1412e-01,  2.9320e-02,\n",
              "                      -8.6442e-02,  2.9315e-02, -3.3161e-03, -2.8975e-02,  3.3089e-02,\n",
              "                      -7.9346e-02,  5.8672e-02,  7.6671e-02, -2.8486e-02,  3.2616e-02,\n",
              "                      -8.7234e-02,  5.4200e-02, -2.9592e-02,  5.5729e-02, -2.0555e-02,\n",
              "                      -7.6958e-02,  4.0410e-04,  8.2262e-05, -4.5191e-02, -1.1837e-02,\n",
              "                      -3.1637e-04, -1.2448e-01,  1.5734e-01,  2.1129e-02,  1.0792e-01,\n",
              "                       3.8526e-02, -5.9702e-03,  3.5397e-02,  5.8609e-02,  9.3390e-02,\n",
              "                       4.5853e-02,  5.0978e-02,  1.9590e-02, -3.5934e-02, -1.4681e-02,\n",
              "                      -5.9106e-03, -3.9776e-03, -1.6160e-02, -1.3530e-01, -5.9458e-02,\n",
              "                      -1.4025e-01, -1.6017e-02, -3.9224e-02,  9.4833e-02,  6.9909e-02,\n",
              "                      -1.6069e-02, -9.7186e-02,  2.8772e-02,  8.2569e-02, -5.6392e-02,\n",
              "                       3.3239e-02, -8.7510e-03, -2.8383e-02, -1.6730e-02,  6.5317e-03,\n",
              "                       7.5512e-02,  6.5101e-02, -9.2139e-02, -2.6262e-04,  6.1702e-02,\n",
              "                       5.9432e-02, -1.0405e-01, -1.2435e-02,  5.6180e-02,  1.1315e-03,\n",
              "                       1.9066e-02, -2.2160e-02, -2.5441e-02, -3.8000e-02, -3.5745e-02,\n",
              "                      -2.2601e-04, -5.1241e-02,  2.6189e-02, -4.2254e-02, -1.0462e-01,\n",
              "                       3.1390e-02, -6.0995e-02, -2.8037e-02,  6.3900e-02,  2.3092e-02,\n",
              "                       1.1387e-01, -3.3828e-02, -1.1722e-01, -5.0713e-02,  2.3206e-02,\n",
              "                      -6.6996e-02, -4.3635e-02, -2.3377e-02, -4.9315e-02, -1.1623e-01,\n",
              "                       4.4750e-02, -4.9844e-02, -4.1099e-02, -1.1640e-02,  1.0160e-01,\n",
              "                       6.7999e-02,  4.0208e-02, -7.5600e-02,  6.4928e-02,  1.9288e-02,\n",
              "                       4.6332e-03,  7.3904e-02, -8.0431e-02, -5.7211e-02, -2.2028e-02,\n",
              "                       5.9995e-02, -1.7897e-02, -1.0538e-02,  2.5397e-02,  4.6695e-02,\n",
              "                       1.1831e-01,  2.8112e-02,  2.0928e-03, -6.1134e-02, -2.2019e-02,\n",
              "                       2.0359e-02,  5.4400e-02,  6.1372e-02,  4.9765e-05, -8.0647e-02,\n",
              "                      -3.5134e-02,  2.1601e-03,  5.9966e-02,  4.3580e-02,  2.5245e-03,\n",
              "                      -1.0278e-01,  6.6325e-03,  5.8477e-02,  7.2471e-02, -3.6197e-02,\n",
              "                      -8.9787e-02, -5.9490e-03,  4.5386e-02, -5.6974e-02,  6.5436e-02,\n",
              "                       1.6950e-02, -6.1996e-02, -3.5688e-02,  6.1874e-02, -6.8074e-02,\n",
              "                      -4.4218e-02,  2.5008e-02,  4.8630e-02,  1.6852e-02, -1.7621e-02,\n",
              "                      -2.7180e-02,  6.3476e-03, -9.4438e-02, -4.0747e-02, -1.7395e-02,\n",
              "                       2.7006e-03, -5.3370e-03, -5.5566e-02, -1.6896e-02,  5.0076e-02,\n",
              "                       7.8791e-02,  3.3811e-02,  4.0653e-03,  1.4439e-02, -9.1066e-02,\n",
              "                      -8.4124e-02, -1.9171e-02,  6.4683e-02,  1.2712e-02, -3.8139e-02,\n",
              "                       3.5230e-02,  6.7935e-02, -6.0367e-02,  9.7758e-03, -3.1176e-02,\n",
              "                      -6.5254e-03,  3.8149e-02, -6.9189e-02, -2.2830e-02, -1.2637e-01,\n",
              "                       1.3786e-01, -3.3880e-02,  3.8799e-02,  4.4311e-02, -1.7697e-02,\n",
              "                       4.4629e-02,  2.9445e-02, -1.9296e-02,  1.2954e-01, -5.6180e-02,\n",
              "                      -3.4734e-02, -3.1643e-02, -5.3042e-02,  1.2363e-01, -1.6515e-02,\n",
              "                       7.1423e-03,  9.9946e-02,  4.4514e-03,  3.0522e-02, -8.7973e-03,\n",
              "                       7.2413e-02, -7.6489e-02, -4.8696e-02,  5.7537e-02, -4.5164e-02,\n",
              "                       6.9890e-02, -1.3295e-02, -7.0374e-03, -6.2883e-03,  3.3014e-02,\n",
              "                      -5.6759e-02, -4.6149e-02, -2.0893e-02, -1.1383e-02, -2.6564e-02,\n",
              "                      -3.7591e-02,  4.8459e-02,  5.3127e-02, -6.2598e-03, -4.0959e-02,\n",
              "                       1.1660e-02, -1.4354e-03, -1.0877e-02, -1.0519e-01,  2.6580e-02,\n",
              "                       3.4251e-03,  8.1896e-02,  9.9019e-02,  5.8462e-02, -1.2374e-03,\n",
              "                      -1.0068e-02, -3.3805e-02,  2.2090e-02, -1.0871e-01, -9.5380e-02,\n",
              "                      -5.4467e-02,  5.4598e-02, -2.9494e-02, -3.3765e-02, -2.4887e-02,\n",
              "                      -6.0114e-02, -4.5528e-03,  1.6158e-01,  2.3922e-02,  1.0488e-01,\n",
              "                       2.9526e-02,  2.2670e-02,  1.1108e-01,  3.3488e-02, -9.4412e-03,\n",
              "                      -8.2890e-03, -8.6020e-02, -6.1954e-02,  5.0741e-02, -3.0947e-02,\n",
              "                      -4.0731e-02, -1.5246e-02, -5.9242e-03, -5.7217e-02, -1.0527e-01,\n",
              "                       4.5122e-03, -2.3296e-02, -5.6745e-02, -5.8354e-02, -2.9487e-02,\n",
              "                       5.8447e-02,  5.4539e-03,  6.5568e-03, -5.0927e-02,  7.1807e-02,\n",
              "                      -1.7299e-02,  6.4607e-02, -5.1415e-02,  8.1900e-02,  3.6318e-02,\n",
              "                       3.2953e-03,  2.5895e-02,  2.9498e-02,  4.5590e-02, -3.1397e-02,\n",
              "                       6.1396e-02,  1.2089e-01,  1.0708e-01, -2.4657e-02,  5.8130e-02,\n",
              "                      -1.2857e-02, -2.5117e-02,  1.1917e-01, -1.4373e-01,  6.1902e-02,\n",
              "                       4.2136e-02, -4.2000e-02,  3.5735e-02, -4.3022e-02,  2.9927e-02,\n",
              "                       3.8358e-02,  1.4662e-02, -5.3346e-02,  4.2071e-02,  2.3202e-02,\n",
              "                       3.9541e-02, -3.1763e-02,  4.4794e-02, -9.6187e-03,  9.3290e-03,\n",
              "                       9.0719e-02,  2.8610e-02, -1.1101e-02,  5.8444e-03,  2.9654e-02,\n",
              "                      -1.2738e-02, -7.6476e-03, -2.4085e-03, -1.9247e-01, -7.2475e-02,\n",
              "                       5.5610e-02, -2.8872e-02,  5.1677e-02, -5.4051e-02, -2.4318e-02,\n",
              "                      -2.0942e-02, -9.5015e-02, -2.8247e-02, -5.1228e-02, -5.8458e-02,\n",
              "                       2.5569e-02, -8.7076e-02,  9.2372e-02, -1.3741e-02, -4.1928e-02,\n",
              "                      -4.6678e-02,  2.4059e-02,  1.7612e-03,  4.0633e-02, -2.7564e-02,\n",
              "                      -1.1955e-02, -4.8968e-02, -1.2242e-02,  4.8514e-02, -7.6991e-02,\n",
              "                       4.9085e-02, -1.9162e-02, -2.5963e-02,  1.1729e-02, -4.9235e-02,\n",
              "                       2.9699e-02,  4.7845e-02,  1.5084e-02,  7.1624e-02,  1.2057e-02],\n",
              "                     device='cuda:0')),\n",
              "             ('classifier.2.weight',\n",
              "              tensor([[ 0.0030,  0.0060,  0.0490,  ..., -0.0327, -0.0837,  0.0974],\n",
              "                      [ 0.0832, -0.0437, -0.1201,  ...,  0.0553, -0.0331, -0.0915],\n",
              "                      [ 0.0348,  0.0999, -0.0674,  ...,  0.0090,  0.0400, -0.0117],\n",
              "                      ...,\n",
              "                      [ 0.0084,  0.0083, -0.1279,  ..., -0.0476,  0.0515,  0.1450],\n",
              "                      [ 0.0474, -0.0073,  0.0597,  ..., -0.0798, -0.0495, -0.1331],\n",
              "                      [-0.0236,  0.0330,  0.0113,  ...,  0.0614, -0.0187, -0.1753]],\n",
              "                     device='cuda:0')),\n",
              "             ('classifier.2.bias',\n",
              "              tensor([ 3.7764e-02,  1.8625e-01, -8.7239e-02,  1.1916e-01,  6.1589e-02,\n",
              "                       1.6206e-01, -2.8826e-02, -7.0509e-02, -8.9094e-02,  1.3110e-01,\n",
              "                       6.0492e-03, -5.0761e-02,  5.5217e-02,  7.4839e-04, -3.8043e-02,\n",
              "                       1.6641e-01,  5.6431e-02,  1.0677e-01, -9.6835e-02,  1.5693e-01,\n",
              "                       2.5266e-02,  1.8101e-01, -8.5730e-02,  7.2055e-02, -1.0899e-01,\n",
              "                       1.4036e-01,  4.8652e-02,  1.8195e-01,  1.3491e-01, -5.1881e-02,\n",
              "                       1.5645e-01,  5.1397e-02,  1.1477e-01, -4.2848e-02, -8.3931e-02,\n",
              "                       5.5430e-02, -4.7762e-02,  2.5366e-02, -1.9506e-01, -1.5698e-02,\n",
              "                       1.2731e-01,  6.6131e-03,  6.4793e-02, -2.4012e-02, -5.3728e-02,\n",
              "                       2.1997e-02, -4.5787e-02, -5.7566e-02,  5.7810e-02,  1.6049e-02,\n",
              "                       6.4896e-02,  9.3018e-02, -1.8365e-01, -8.6703e-02,  4.0767e-02,\n",
              "                       6.7935e-02, -1.0487e-01, -9.8307e-02, -7.8141e-02, -1.8003e-01,\n",
              "                       1.3593e-02,  4.9277e-02, -2.1484e-03,  1.1166e-03,  7.4379e-02,\n",
              "                       1.0109e-01, -4.8527e-02,  2.1482e-01,  6.3200e-02, -1.7453e-04,\n",
              "                       4.9149e-03, -5.2766e-02, -2.3481e-02,  1.5407e-01,  4.5236e-02,\n",
              "                      -8.4436e-02, -7.1134e-02,  4.4559e-02,  3.9712e-02, -9.7953e-02,\n",
              "                       1.5703e-01, -6.0788e-02, -7.0013e-02, -4.7564e-02,  4.7068e-02,\n",
              "                       2.2938e-03,  3.2049e-02,  1.4110e-01, -1.3183e-01, -5.8323e-02,\n",
              "                       7.3624e-02,  8.9334e-02,  5.2929e-02, -7.7329e-02,  4.2853e-02,\n",
              "                      -7.4113e-02, -4.1553e-02,  4.5173e-02,  5.6980e-02,  1.1105e-01,\n",
              "                      -2.1589e-02, -1.1072e-01,  8.8400e-02, -8.8413e-02,  9.3611e-02,\n",
              "                      -1.3127e-01, -2.3924e-02,  9.8177e-02, -1.1411e-02, -3.4942e-02,\n",
              "                       6.1939e-02,  8.5743e-02, -1.3628e-01,  1.1323e-01, -1.0125e-03,\n",
              "                       7.7585e-02,  4.2339e-02,  1.0774e-01,  1.3135e-01, -3.3774e-02,\n",
              "                       2.1298e-01,  1.4065e-01, -6.6152e-02,  3.0774e-02,  1.0449e-01,\n",
              "                       4.4390e-02, -5.3081e-02,  7.8525e-02, -8.3565e-02,  5.0039e-02,\n",
              "                       2.7101e-02, -3.4510e-02,  4.2104e-02,  9.9964e-02,  9.4463e-03,\n",
              "                      -3.3555e-02, -6.3382e-02, -1.2484e-02, -8.5834e-02,  4.5045e-02,\n",
              "                      -8.7054e-02,  9.0065e-02,  1.2313e-01, -8.8812e-02,  2.3400e-02,\n",
              "                      -7.4949e-02,  6.2571e-02,  5.1919e-02,  5.1698e-02,  9.6093e-02,\n",
              "                       5.5573e-03, -1.4871e-01,  1.3662e-01, -6.9988e-02, -8.0095e-03,\n",
              "                      -9.8802e-02,  1.4835e-01, -5.3102e-02,  3.1446e-02, -1.1531e-02,\n",
              "                       1.2448e-02,  1.4825e-01,  6.4522e-02, -4.2598e-03,  5.0701e-02,\n",
              "                      -2.1491e-02,  1.3508e-01, -1.7399e-01,  1.6706e-01, -1.6082e-01,\n",
              "                       9.4771e-02,  2.5625e-02,  1.4778e-01, -1.8843e-02, -5.9150e-03,\n",
              "                       8.1534e-02,  6.5728e-02,  2.3266e-02,  9.5391e-02, -7.1816e-02,\n",
              "                      -8.0665e-02, -1.8291e-02, -1.0878e-01,  1.3888e-01,  1.0711e-02,\n",
              "                       1.1212e-01,  6.0496e-02, -2.1310e-02,  2.0769e-02,  1.8087e-02,\n",
              "                       9.9323e-02,  2.0675e-01,  5.9498e-02,  4.1277e-02, -7.0092e-02,\n",
              "                      -2.7212e-02,  4.6547e-02, -2.2442e-02,  5.9202e-02,  2.0136e-01],\n",
              "                     device='cuda:0')),\n",
              "             ('classifier.4.weight',\n",
              "              tensor([[ 0.0436,  0.0113,  0.0150,  ..., -0.0842, -0.0183,  0.0881],\n",
              "                      [ 0.0318, -0.0259, -0.0307,  ..., -0.0294,  0.1126,  0.0965],\n",
              "                      [-0.1188,  0.0008,  0.0053,  ..., -0.0969,  0.0710, -0.0089],\n",
              "                      ...,\n",
              "                      [ 0.0457,  0.1441,  0.0587,  ..., -0.0767,  0.0110,  0.1775],\n",
              "                      [-0.0033,  0.1072,  0.0295,  ...,  0.0038,  0.1048,  0.1214],\n",
              "                      [ 0.1176,  0.0045, -0.0129,  ..., -0.0610,  0.1459,  0.0811]],\n",
              "                     device='cuda:0')),\n",
              "             ('classifier.4.bias',\n",
              "              tensor([ 0.2917,  0.0255, -0.0456, -0.0707, -0.0941,  0.1055,  0.0631, -0.0987,\n",
              "                      -0.1069, -0.0032,  0.0648,  0.0807, -0.1039,  0.0515,  0.0382, -0.1282,\n",
              "                       0.0078, -0.0893,  0.0549,  0.0156,  0.0364, -0.0134, -0.0553, -0.0471,\n",
              "                       0.0173,  0.0303, -0.0575,  0.1306,  0.1873,  0.1403,  0.0016,  0.0648,\n",
              "                       0.1446, -0.0167,  0.0682,  0.0304, -0.0175, -0.0822,  0.0969,  0.0405,\n",
              "                       0.0771,  0.1220,  0.1241,  0.1939, -0.0337, -0.0624, -0.0154, -0.0354,\n",
              "                      -0.0383, -0.0414,  0.1395, -0.0409, -0.0868,  0.1015,  0.0210, -0.0456,\n",
              "                       0.1706,  0.0395, -0.1201,  0.1918,  0.1119,  0.0087,  0.0791,  0.2384,\n",
              "                       0.0244, -0.0147,  0.1939,  0.1450, -0.0495, -0.0396, -0.0213,  0.1606,\n",
              "                       0.1007,  0.1027,  0.0486,  0.0715, -0.0452, -0.0442, -0.0474, -0.0604,\n",
              "                       0.0561, -0.0394,  0.1927,  0.0347,  0.0545,  0.0322, -0.0843,  0.1223,\n",
              "                       0.0840, -0.1347, -0.0436, -0.0034,  0.1481, -0.0593, -0.0170,  0.0546,\n",
              "                       0.0786,  0.2479,  0.1134,  0.2038], device='cuda:0')),\n",
              "             ('classifier.6.weight',\n",
              "              tensor([[-1.2115e-01,  1.6905e-02, -9.7558e-02, -1.6901e-01, -5.5236e-02,\n",
              "                        7.0913e-02, -1.1230e-01,  4.3622e-02, -1.1353e-01, -2.1653e-01,\n",
              "                        8.0493e-02,  3.6576e-02, -1.6015e-01, -1.2501e-01, -5.3584e-02,\n",
              "                        7.5619e-02, -1.4804e-01, -9.2980e-02, -8.1856e-02,  1.7054e-01,\n",
              "                       -8.4570e-02,  2.1136e-02, -3.6862e-02,  1.0056e-01,  8.1136e-02,\n",
              "                        9.9492e-03,  8.8228e-02,  1.3520e-01, -1.0075e-01,  1.2799e-01,\n",
              "                       -1.5760e-03, -1.2515e-01,  1.4057e-01, -1.6146e-02,  3.0142e-02,\n",
              "                        1.4190e-01, -8.8931e-02,  9.6823e-03, -1.9818e-01, -2.0403e-01,\n",
              "                        1.0831e-01, -8.3147e-02,  6.3389e-02, -2.3082e-01, -1.2997e-01,\n",
              "                        9.5338e-02,  1.2978e-01,  1.5730e-01, -1.8190e-01,  2.2087e-01,\n",
              "                        1.3419e-02,  2.7371e-01, -9.2026e-02,  7.4028e-03,  9.4834e-02,\n",
              "                       -9.0983e-02,  1.5220e-01, -3.0054e-02,  4.7731e-02,  6.3120e-03,\n",
              "                       -7.7171e-02, -2.5157e-02,  1.1319e-01,  6.7335e-02, -2.3839e-01,\n",
              "                        7.0123e-02, -3.1997e-01, -2.6054e-01, -1.3103e-01, -6.4634e-03,\n",
              "                       -1.5091e-01,  4.1584e-02, -2.6659e-02, -1.7849e-02,  2.9893e-02,\n",
              "                       -1.7564e-01, -1.7318e-02,  5.8035e-02,  7.9555e-02, -5.9311e-02,\n",
              "                       -1.4174e-01, -3.9488e-02,  4.4043e-03,  5.7872e-02, -1.6435e-01,\n",
              "                        6.5776e-02, -1.7637e-02, -1.0163e-01,  5.6484e-02,  8.5882e-02,\n",
              "                       -7.8379e-02,  1.2368e-01, -8.1254e-02, -4.0659e-02, -8.2931e-02,\n",
              "                       -1.8118e-01,  1.1126e-01,  1.2354e-01, -2.4935e-02, -1.3963e-01],\n",
              "                      [-2.5381e-01,  1.1542e-02,  1.4261e-01,  1.6205e-02,  8.2380e-02,\n",
              "                        1.2034e-01, -2.5347e-02, -1.8155e-01, -4.8126e-02, -2.6770e-02,\n",
              "                       -2.6936e-01, -9.4846e-02,  2.8303e-03,  1.3416e-01,  3.5852e-02,\n",
              "                       -8.2436e-02, -7.3696e-02,  5.3431e-02, -8.6638e-02, -6.0835e-02,\n",
              "                       -4.1119e-03, -4.0747e-02, -2.4470e-02, -1.6550e-01,  1.0959e-02,\n",
              "                       -1.8219e-01, -2.3593e-01, -2.7546e-02, -6.3626e-02, -1.1429e-01,\n",
              "                       -5.3217e-02, -1.2896e-01,  1.7417e-01,  9.1352e-02, -1.7526e-01,\n",
              "                        1.4757e-02,  1.2752e-01, -1.4229e-01,  1.9512e-01, -1.3222e-01,\n",
              "                       -5.9793e-02, -1.2870e-01,  1.3604e-02,  8.3067e-02, -1.5274e-02,\n",
              "                        1.2280e-01, -1.7031e-01, -1.1125e-01,  1.2670e-01,  1.3419e-01,\n",
              "                       -1.1535e-01,  3.4675e-01,  7.4979e-02,  1.2872e-01, -3.6312e-03,\n",
              "                        6.4882e-02, -8.1740e-02,  8.3864e-02,  1.9703e-01,  4.7741e-02,\n",
              "                       -3.7412e-02,  4.1545e-02,  7.0087e-03, -1.7886e-01,  8.0737e-02,\n",
              "                       -2.3526e-02,  1.5251e-02, -1.9517e-01,  1.1558e-01,  1.5142e-01,\n",
              "                        5.6829e-02, -2.1888e-01,  1.6320e-01, -9.0691e-02, -1.8655e-01,\n",
              "                        8.4521e-02,  3.4536e-02, -2.2567e-01,  7.7339e-04,  1.7014e-02,\n",
              "                       -6.4114e-02, -2.8674e-02, -1.9436e-01, -5.3369e-02, -2.2438e-01,\n",
              "                       -4.9606e-02, -4.8448e-02, -2.0034e-01, -6.7072e-02, -1.7242e-01,\n",
              "                       -1.4435e-02, -5.2201e-02, -3.1443e-01,  3.0426e-02,  8.3280e-02,\n",
              "                       -1.7071e-01, -1.6265e-01, -1.3489e-02,  1.1947e-01,  1.0980e-01],\n",
              "                      [-1.4906e-01,  4.7104e-03,  1.0409e-01, -1.0807e-01,  4.3209e-02,\n",
              "                       -1.1110e-01,  1.0243e-01,  7.5546e-03,  2.3543e-02, -1.6380e-01,\n",
              "                       -9.1129e-02, -1.4598e-01, -2.0164e-01,  8.5836e-02,  8.0279e-02,\n",
              "                       -1.4267e-01,  3.9390e-02, -3.9657e-02, -5.7120e-03,  1.2344e-01,\n",
              "                       -3.6501e-02,  7.9104e-02, -7.3344e-03, -2.2552e-01, -4.3994e-02,\n",
              "                        4.1648e-02, -2.5629e-01,  5.1980e-02,  7.9546e-02, -5.9304e-02,\n",
              "                       -1.0524e-01,  2.0229e-02, -1.5143e-01,  2.0111e-02,  1.4637e-01,\n",
              "                       -2.2595e-01, -1.4379e-01,  8.7205e-02, -1.3942e-02, -4.3065e-02,\n",
              "                        1.9341e-01,  3.0080e-02, -7.5167e-02, -6.2010e-02,  6.3850e-02,\n",
              "                       -1.5703e-01, -1.1783e-01,  7.0901e-02,  1.2692e-01, -1.4984e-01,\n",
              "                       -4.2699e-02, -2.1884e-02,  4.4265e-02, -9.7425e-02, -1.5119e-01,\n",
              "                       -8.7447e-02, -3.0450e-02, -9.6664e-02, -8.3159e-02, -4.5934e-02,\n",
              "                        1.0719e-01, -8.9593e-02,  6.0691e-02,  7.6286e-03, -1.7805e-01,\n",
              "                       -1.3031e-01, -8.9797e-02, -1.2339e-01,  7.4718e-02,  1.1708e-01,\n",
              "                       -6.9376e-02, -9.7580e-02,  6.5660e-02, -2.0079e-03, -1.8488e-02,\n",
              "                       -1.4511e-01, -1.6572e-02, -9.8678e-02, -3.4112e-02, -8.9376e-02,\n",
              "                       -3.7112e-02, -4.6178e-02,  1.0193e-01, -1.1221e-02, -6.6935e-02,\n",
              "                       -3.3125e-02,  6.7005e-02, -1.2712e-01, -1.3719e-01, -1.6699e-01,\n",
              "                        5.4848e-02,  7.4854e-02, -3.3049e-02,  1.1618e-01,  5.0322e-02,\n",
              "                        1.5261e-01,  1.1311e-01, -5.0588e-02, -1.5670e-01, -1.9311e-01],\n",
              "                      [ 4.6626e-02,  6.1230e-02,  1.0467e-01,  2.0160e-02,  2.5989e-03,\n",
              "                       -1.0378e-01,  1.5085e-01,  3.1402e-02, -4.3791e-02,  4.4386e-02,\n",
              "                       -1.0213e-01, -2.5239e-02, -2.0839e-02, -1.9177e-02,  1.2411e-01,\n",
              "                       -5.1400e-02,  9.8497e-02, -8.9951e-02,  1.0312e-01,  8.6589e-02,\n",
              "                       -7.2105e-02,  5.4852e-02, -1.7542e-02,  5.7108e-02,  6.0407e-02,\n",
              "                       -9.5171e-02, -1.8919e-01, -8.7833e-02, -1.0268e-01, -1.2230e-01,\n",
              "                       -7.8411e-02, -1.6565e-01, -1.9646e-01,  7.3493e-02, -5.7044e-02,\n",
              "                       -7.0409e-02, -1.6203e-01, -1.4180e-01, -2.0830e-01, -1.5967e-01,\n",
              "                       -1.1142e-01,  1.3955e-01, -1.6916e-01, -1.0250e-01,  4.2456e-02,\n",
              "                       -2.0826e-01,  1.6799e-02, -6.9429e-02, -3.6780e-03, -1.5667e-01,\n",
              "                        4.0504e-02, -1.9445e-02,  4.8347e-03,  5.6722e-02,  7.6992e-02,\n",
              "                        4.1846e-02,  1.0484e-02,  5.1318e-02,  1.0461e-01, -7.9729e-02,\n",
              "                        7.6840e-02, -8.1376e-02, -9.2504e-02, -7.3603e-03, -1.3955e-01,\n",
              "                       -8.8527e-02, -4.1843e-02, -9.7582e-02, -1.4337e-01, -2.4614e-01,\n",
              "                        4.3288e-02,  6.1489e-02, -6.1835e-02,  1.2091e-01,  1.2791e-01,\n",
              "                       -2.4270e-01, -2.0427e-02, -1.3043e-01,  1.4525e-02,  2.7420e-03,\n",
              "                        1.0267e-01, -4.1706e-02, -1.5539e-02,  4.5643e-02, -5.7071e-02,\n",
              "                        7.7015e-02,  6.1139e-02,  1.0522e-01,  1.2132e-01, -1.2691e-01,\n",
              "                       -9.0854e-02, -2.1668e-02,  4.4610e-02, -1.5766e-01, -3.4575e-02,\n",
              "                       -5.5101e-03,  2.4080e-02, -1.5255e-01,  1.2998e-01, -1.8199e-01],\n",
              "                      [-1.0182e-01, -2.0130e-02,  8.9801e-02,  1.2401e-02,  9.8026e-03,\n",
              "                        6.7000e-02, -2.2601e-01, -1.7321e-02, -1.0449e-01, -1.0582e-01,\n",
              "                       -8.0202e-02,  2.4459e-02, -3.4098e-02, -1.6316e-01, -2.1377e-01,\n",
              "                       -9.8214e-02, -5.8547e-02,  4.0658e-02, -3.0502e-01, -1.2569e-02,\n",
              "                       -1.4263e-02, -4.4854e-02, -1.0580e-01, -7.0449e-02, -1.0805e-01,\n",
              "                       -1.4362e-01, -2.0949e-01, -2.7884e-01, -6.0678e-03,  1.4284e-01,\n",
              "                        4.5757e-02,  4.5353e-02, -1.2299e-01, -1.3175e-02,  1.0423e-01,\n",
              "                        1.2260e-01,  3.5113e-02,  3.3705e-02,  1.3801e-01,  2.1996e-01,\n",
              "                       -7.3982e-02, -1.5920e-01,  1.1741e-01,  7.2352e-02, -7.3030e-02,\n",
              "                       -1.4019e-01, -2.0011e-01,  1.3575e-01, -9.0641e-02, -1.0422e-01,\n",
              "                        5.7785e-03, -1.2595e-01, -1.3708e-01, -2.1117e-01,  3.2410e-02,\n",
              "                       -3.6099e-02,  1.9922e-03,  9.1858e-02, -2.4397e-02, -1.7945e-01,\n",
              "                       -2.2453e-02, -1.6452e-05, -6.8795e-02, -1.8020e-01,  3.1345e-02,\n",
              "                        7.0862e-02,  2.9132e-02,  9.4222e-02,  1.3264e-01, -1.2133e-02,\n",
              "                       -6.8949e-02,  5.6060e-02, -1.2299e-01, -1.5664e-01,  1.7113e-01,\n",
              "                        6.6280e-02,  1.3376e-01, -2.0269e-01,  9.4936e-03,  3.3300e-02,\n",
              "                        1.6253e-01,  1.1802e-01,  2.1431e-02, -1.5212e-01,  1.7776e-02,\n",
              "                       -5.5675e-02, -1.0395e-01, -2.5439e-03, -1.7109e-01, -8.1931e-02,\n",
              "                       -4.8822e-02, -1.6317e-01,  8.1185e-02,  5.3486e-02, -5.1956e-02,\n",
              "                        1.4822e-01, -1.7829e-01,  5.4322e-02, -1.0964e-01,  1.2963e-01],\n",
              "                      [ 1.4045e-01, -2.0211e-01, -1.3133e-01, -5.9145e-03,  5.2680e-03,\n",
              "                       -1.4607e-01,  5.5397e-02, -6.7335e-03, -8.9935e-03,  6.6480e-02,\n",
              "                        9.7435e-02, -7.5621e-02, -1.5357e-01,  8.5090e-02,  1.4346e-02,\n",
              "                       -8.5326e-02, -6.0794e-02,  4.3952e-02,  1.0754e-01, -9.5591e-02,\n",
              "                        5.1044e-02,  1.6597e-02,  9.6814e-04, -1.1444e-01,  7.5871e-03,\n",
              "                       -2.7841e-02,  1.9452e-01,  5.7775e-02, -1.2972e-01, -1.0393e-01,\n",
              "                       -4.0319e-02,  8.6933e-02, -1.2425e-01, -3.5268e-02, -3.8022e-02,\n",
              "                       -6.9129e-02, -3.1980e-01, -1.1696e-01,  8.5919e-02,  6.5038e-02,\n",
              "                       -1.2826e-01,  1.1626e-01, -1.4138e-01,  1.2619e-01, -7.3763e-02,\n",
              "                        4.5801e-02,  1.2831e-01, -1.8695e-01, -1.5722e-01, -1.7956e-01,\n",
              "                       -1.9920e-01, -1.6474e-03, -3.9789e-02, -3.1223e-02, -6.2700e-02,\n",
              "                       -1.8089e-03, -1.9605e-01, -7.4274e-02,  1.3773e-01, -1.1808e-01,\n",
              "                       -1.2145e-01, -2.5653e-02,  7.4646e-02,  1.0708e-01, -1.5515e-02,\n",
              "                       -1.9867e-01,  9.3471e-02,  7.7348e-02, -4.1745e-02,  5.4862e-02,\n",
              "                       -2.4607e-03, -1.3452e-02,  2.9731e-02, -8.2441e-02, -4.5073e-02,\n",
              "                       -1.1335e-01, -1.9625e-01,  7.2828e-02, -5.8495e-02, -1.0314e-01,\n",
              "                        8.8679e-02,  1.1056e-01, -2.3654e-01, -8.5426e-02, -1.7205e-02,\n",
              "                        8.1900e-02, -8.8209e-02, -4.9815e-02, -5.8088e-02, -1.0366e-01,\n",
              "                        7.4136e-02,  9.9700e-02,  1.5750e-01, -1.5031e-01, -1.0380e-01,\n",
              "                       -1.8342e-01, -6.0273e-02, -1.0032e-01,  7.6624e-02,  1.2866e-02],\n",
              "                      [-1.6825e-01, -2.3950e-01, -1.1658e-01, -1.1275e-01, -7.9941e-02,\n",
              "                        1.3669e-01, -2.7551e-01, -1.3236e-01, -1.8086e-02, -2.1176e-01,\n",
              "                       -1.2143e-02, -1.8610e-01, -9.4168e-02,  1.1840e-01, -1.0642e-01,\n",
              "                       -1.4921e-02,  1.0205e-01, -7.3492e-02, -1.6823e-01,  7.1091e-02,\n",
              "                        1.4930e-02, -5.4628e-02,  1.4637e-02,  2.2296e-01, -1.3629e-01,\n",
              "                       -2.7621e-01,  6.3365e-02, -7.1358e-02, -2.5190e-01,  1.4603e-01,\n",
              "                        8.9681e-02, -1.4741e-01,  7.4408e-02, -6.0371e-02,  4.4204e-02,\n",
              "                       -3.0503e-02, -1.2345e-02,  1.8431e-02,  1.2282e-01, -5.6646e-02,\n",
              "                       -1.2016e-01,  8.9967e-03, -1.3437e-01, -3.9675e-02, -1.8945e-02,\n",
              "                        2.0068e-01,  1.4232e-01, -5.4669e-02,  5.5657e-03, -1.2794e-01,\n",
              "                       -1.0486e-01, -2.5144e-02,  5.9111e-02, -1.6991e-01, -2.3245e-02,\n",
              "                        3.2230e-02, -1.7450e-01,  8.7802e-02, -1.4300e-01, -3.3770e-02,\n",
              "                       -1.6454e-02,  6.5429e-02,  1.0546e-01,  7.2118e-02, -1.7435e-01,\n",
              "                        1.1429e-01, -7.1744e-02, -2.3344e-02, -1.8281e-01,  1.2557e-01,\n",
              "                       -1.1104e-01,  1.0401e-01, -1.4416e-01, -2.4352e-01,  2.2082e-03,\n",
              "                        4.8570e-02, -2.4793e-01, -9.6599e-02, -8.2167e-02,  6.8910e-03,\n",
              "                       -1.4352e-01,  1.6485e-01, -2.4745e-01, -9.3889e-02, -2.0421e-01,\n",
              "                        1.5457e-02, -2.7001e-03, -1.8485e-01, -1.4090e-01, -5.9862e-02,\n",
              "                       -1.8474e-02,  3.2816e-02,  1.3494e-01, -1.8216e-01, -3.0098e-01,\n",
              "                       -1.1131e-01, -1.5221e-01, -1.0116e-01,  3.3818e-02,  8.5357e-03],\n",
              "                      [-1.2902e-01, -2.2002e-02,  1.1959e-01,  1.3314e-01, -8.7720e-02,\n",
              "                       -2.5512e-01, -4.5107e-02,  8.3125e-02, -3.8340e-02, -1.0542e-01,\n",
              "                       -5.9388e-02,  8.7511e-02,  3.9795e-03, -8.2001e-02,  3.0940e-02,\n",
              "                       -1.0633e-01,  1.1746e-01,  5.9209e-02,  1.0632e-01, -1.4472e-01,\n",
              "                        3.2453e-02, -7.1884e-02, -6.5394e-02, -1.4054e-01,  9.3220e-03,\n",
              "                        4.5778e-03,  1.8392e-01, -1.5427e-01,  2.2950e-02, -1.5712e-01,\n",
              "                        9.0695e-02,  1.1210e-01, -2.2130e-02,  8.9517e-02, -3.5482e-02,\n",
              "                        1.8228e-01,  1.6350e-01,  6.5442e-02, -1.4008e-01, -6.6989e-02,\n",
              "                       -2.3978e-01, -2.0675e-01,  8.8001e-02, -1.9101e-01,  7.2248e-02,\n",
              "                        7.8862e-02,  1.3547e-01,  5.6243e-02,  1.8157e-01,  5.0990e-02,\n",
              "                       -1.0043e-01, -2.5736e-01,  7.9754e-02,  3.2519e-02,  5.4663e-02,\n",
              "                        2.8953e-03, -2.3881e-01, -2.4129e-01,  8.3811e-02,  2.7203e-02,\n",
              "                       -9.0542e-02, -6.4291e-02, -2.6777e-01, -2.5045e-01,  1.1790e-01,\n",
              "                        7.1378e-03, -2.6031e-01,  5.2779e-02,  1.7755e-01, -1.8270e-01,\n",
              "                       -1.0136e-01, -2.1212e-01, -2.5280e-03,  9.3611e-02, -6.6002e-02,\n",
              "                        5.0124e-02,  3.0375e-02,  1.3291e-01,  4.0902e-02, -4.5882e-02,\n",
              "                       -2.2636e-01, -1.7619e-01,  3.5857e-02,  3.0407e-02,  5.0887e-03,\n",
              "                       -9.2089e-02,  3.4166e-02, -1.6688e-01, -6.9349e-02, -1.2464e-01,\n",
              "                       -1.8663e-02, -1.6760e-01, -1.3673e-01,  8.6707e-02,  7.3983e-02,\n",
              "                        8.7783e-02,  1.4138e-01, -9.9944e-02, -8.7571e-02,  7.1482e-02],\n",
              "                      [ 1.4058e-01, -1.2094e-01, -2.7236e-01, -9.3465e-02, -1.4833e-02,\n",
              "                        4.8602e-02,  8.9972e-02,  9.7283e-03, -9.2907e-02, -7.8992e-02,\n",
              "                       -1.1974e-01,  5.1142e-02, -2.0027e-01,  1.2683e-01,  2.0412e-02,\n",
              "                       -3.7331e-02,  7.2744e-02, -7.5312e-02,  6.9644e-02, -1.9018e-01,\n",
              "                        1.2950e-02, -1.7395e-02, -1.4269e-01, -1.4949e-01, -5.4279e-02,\n",
              "                       -2.8988e-01, -1.4707e-01,  1.0215e-01,  1.2157e-01,  6.8710e-02,\n",
              "                        6.6884e-02,  1.1904e-02,  1.4304e-01, -4.6645e-02, -1.4066e-01,\n",
              "                       -1.9212e-01, -1.1516e-02, -2.2025e-01,  5.9332e-02, -3.1478e-04,\n",
              "                        6.0936e-02,  1.9954e-02,  1.0616e-01,  1.3908e-01, -4.7978e-02,\n",
              "                       -5.9425e-02, -1.4822e-01, -1.5022e-01, -2.0837e-01, -5.9333e-02,\n",
              "                        1.5354e-01, -1.3357e-02,  2.1389e-02,  7.0196e-02, -1.0450e-01,\n",
              "                       -7.0252e-02,  4.2623e-02, -4.3413e-02, -1.9472e-01,  1.7900e-01,\n",
              "                        1.5517e-02, -2.7469e-02, -8.4192e-02,  1.0799e-01, -5.9799e-02,\n",
              "                       -2.3315e-01,  6.3730e-02,  8.9279e-02,  1.2130e-02, -1.1442e-01,\n",
              "                       -8.4889e-03,  9.2992e-02,  4.6240e-02,  8.9976e-02, -5.0752e-02,\n",
              "                        8.3820e-02, -1.6299e-01, -1.6485e-02, -5.8802e-02, -6.6252e-02,\n",
              "                       -2.0432e-01, -1.2854e-01,  1.2734e-01,  2.2391e-02, -2.9021e-01,\n",
              "                        8.0691e-02,  5.3481e-02, -1.5833e-02,  5.6810e-03, -2.7734e-02,\n",
              "                       -9.5629e-02,  1.2347e-02,  5.6995e-02, -9.8286e-02, -4.6651e-02,\n",
              "                       -4.1924e-02,  1.1973e-01,  1.6409e-01,  1.5248e-01,  8.1730e-02],\n",
              "                      [-1.8489e-03,  6.8530e-02, -6.6784e-02, -1.2932e-01, -7.4567e-03,\n",
              "                        9.8601e-02,  2.4739e-02,  2.8418e-02, -1.3565e-01,  1.5900e-01,\n",
              "                        1.5387e-01,  1.5229e-02, -4.9942e-02, -3.0972e-01, -1.1155e-01,\n",
              "                       -6.4781e-02, -1.5233e-01, -6.6186e-02, -1.7459e-01, -1.1877e-01,\n",
              "                       -6.6426e-02,  1.4110e-02,  2.3122e-02,  9.7917e-02,  3.3843e-02,\n",
              "                        8.2899e-02, -8.3968e-02, -2.0532e-01, -6.4594e-02,  8.4620e-02,\n",
              "                       -5.6248e-02,  1.4878e-01, -9.4505e-02,  3.1816e-02, -8.1187e-02,\n",
              "                       -1.0405e-01,  1.1216e-01, -9.9206e-02, -1.7699e-01, -1.0373e-01,\n",
              "                        2.0601e-02,  6.0234e-02,  5.8550e-02, -6.1363e-02, -2.3426e-01,\n",
              "                       -1.1027e-01,  3.6620e-02, -6.1457e-02,  3.1714e-02,  9.8423e-02,\n",
              "                       -6.0527e-02, -3.5378e-02, -3.9781e-01,  5.7001e-02,  8.4573e-02,\n",
              "                        7.3265e-03,  4.7241e-02,  8.8867e-02, -2.9954e-02,  6.7772e-02,\n",
              "                        6.7366e-02, -5.2795e-02, -1.6950e-01, -1.0625e-01,  7.1589e-02,\n",
              "                        3.5634e-02,  5.5408e-02,  8.3735e-02, -1.1340e-01,  1.8353e-02,\n",
              "                        1.9960e-02,  1.4377e-01, -4.3638e-02, -1.3828e-01, -8.2614e-02,\n",
              "                        3.7660e-02,  1.5844e-02, -6.1281e-02,  8.5143e-02,  3.2713e-02,\n",
              "                       -4.7005e-03, -1.0806e-01,  9.9948e-03,  1.6989e-02,  1.8991e-01,\n",
              "                       -7.9280e-02,  7.7956e-02,  1.3677e-01,  8.0705e-02, -3.7633e-02,\n",
              "                       -1.0835e-01, -4.2840e-03,  7.7714e-02, -5.2252e-02,  9.3207e-02,\n",
              "                        3.6743e-02,  1.1384e-01, -1.5521e-02, -8.7013e-02,  9.7182e-02]],\n",
              "                     device='cuda:0')),\n",
              "             ('classifier.6.bias',\n",
              "              tensor([ 0.0070, -0.1585, -0.0728,  0.0359, -0.0493, -0.0214, -0.0215, -0.1123,\n",
              "                       0.0726,  0.0445], device='cuda:0'))])"
            ]
          },
          "metadata": {},
          "execution_count": 49
        }
      ]
    },
    {
      "cell_type": "code",
      "metadata": {
        "id": "NzcRhi6tnwfP"
      },
      "source": [
        "torch.save(params, \"model.prm\")"
      ],
      "execution_count": 50,
      "outputs": []
    },
    {
      "cell_type": "code",
      "metadata": {
        "colab": {
          "base_uri": "https://localhost:8080/"
        },
        "id": "kp37S0jan27O",
        "outputId": "674b2c0d-5391-4876-9a6b-b4dfc8010dac"
      },
      "source": [
        "!ls -alh"
      ],
      "execution_count": 53,
      "outputs": [
        {
          "output_type": "stream",
          "name": "stdout",
          "text": [
            "total 1.7M\n",
            "drwxr-xr-x 1 root root 4.0K Dec  2 14:49 .\n",
            "drwxr-xr-x 1 root root 4.0K Dec  2 14:09 ..\n",
            "drwxr-xr-x 4 root root 4.0K Nov 18 14:35 .config\n",
            "drwxr-xr-x 3 root root 4.0K Dec  2 14:20 data\n",
            "-rw-r--r-- 1 root root 1.6M Dec  2 14:49 model.prm\n",
            "drwxr-xr-x 1 root root 4.0K Nov 18 14:36 sample_data\n"
          ]
        }
      ]
    },
    {
      "cell_type": "code",
      "metadata": {
        "colab": {
          "base_uri": "https://localhost:8080/"
        },
        "id": "y1BxNNG4n7kA",
        "outputId": "fa99cd13-9eb5-4183-86e3-97f201523295"
      },
      "source": [
        "param_load = torch.load(\"model.prm\")\n",
        "model.load_state_dict(param_load)"
      ],
      "execution_count": 54,
      "outputs": [
        {
          "output_type": "execute_result",
          "data": {
            "text/plain": [
              "<All keys matched successfully>"
            ]
          },
          "metadata": {},
          "execution_count": 54
        }
      ]
    },
    {
      "cell_type": "code",
      "metadata": {
        "id": "wNp9bSgMoGYG"
      },
      "source": [
        ""
      ],
      "execution_count": null,
      "outputs": []
    }
  ]
}