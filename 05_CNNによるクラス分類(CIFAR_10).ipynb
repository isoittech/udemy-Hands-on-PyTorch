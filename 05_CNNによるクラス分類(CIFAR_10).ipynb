{
  "nbformat": 4,
  "nbformat_minor": 0,
  "metadata": {
    "colab": {
      "name": "05_CNNによるクラス分類(CIFAR 10).ipynb",
      "provenance": [],
      "collapsed_sections": [],
      "toc_visible": true,
      "authorship_tag": "ABX9TyP4+GTRq48z+zAdOYM02AX7",
      "include_colab_link": true
    },
    "kernelspec": {
      "name": "python3",
      "display_name": "Python 3"
    },
    "language_info": {
      "name": "python"
    },
    "accelerator": "GPU",
    "widgets": {
      "application/vnd.jupyter.widget-state+json": {
        "e18f5472a649482cb2bd49e13341af53": {
          "model_module": "@jupyter-widgets/controls",
          "model_name": "HBoxModel",
          "model_module_version": "1.5.0",
          "state": {
            "_view_name": "HBoxView",
            "_dom_classes": [],
            "_model_name": "HBoxModel",
            "_view_module": "@jupyter-widgets/controls",
            "_model_module_version": "1.5.0",
            "_view_count": null,
            "_view_module_version": "1.5.0",
            "box_style": "",
            "layout": "IPY_MODEL_ff62dbc0c3f44799870601d5ca843efb",
            "_model_module": "@jupyter-widgets/controls",
            "children": [
              "IPY_MODEL_2d54b7c074a74656b045c16ea2265163",
              "IPY_MODEL_6d703a980149408c8b2a888ad7166f6f",
              "IPY_MODEL_714f72b7f9f74fc7a21bcc33911969a2"
            ]
          }
        },
        "ff62dbc0c3f44799870601d5ca843efb": {
          "model_module": "@jupyter-widgets/base",
          "model_name": "LayoutModel",
          "model_module_version": "1.2.0",
          "state": {
            "_view_name": "LayoutView",
            "grid_template_rows": null,
            "right": null,
            "justify_content": null,
            "_view_module": "@jupyter-widgets/base",
            "overflow": null,
            "_model_module_version": "1.2.0",
            "_view_count": null,
            "flex_flow": null,
            "width": null,
            "min_width": null,
            "border": null,
            "align_items": null,
            "bottom": null,
            "_model_module": "@jupyter-widgets/base",
            "top": null,
            "grid_column": null,
            "overflow_y": null,
            "overflow_x": null,
            "grid_auto_flow": null,
            "grid_area": null,
            "grid_template_columns": null,
            "flex": null,
            "_model_name": "LayoutModel",
            "justify_items": null,
            "grid_row": null,
            "max_height": null,
            "align_content": null,
            "visibility": null,
            "align_self": null,
            "height": null,
            "min_height": null,
            "padding": null,
            "grid_auto_rows": null,
            "grid_gap": null,
            "max_width": null,
            "order": null,
            "_view_module_version": "1.2.0",
            "grid_template_areas": null,
            "object_position": null,
            "object_fit": null,
            "grid_auto_columns": null,
            "margin": null,
            "display": null,
            "left": null
          }
        },
        "2d54b7c074a74656b045c16ea2265163": {
          "model_module": "@jupyter-widgets/controls",
          "model_name": "HTMLModel",
          "model_module_version": "1.5.0",
          "state": {
            "_view_name": "HTMLView",
            "style": "IPY_MODEL_f00ffe09f5274d4da0bd3e07dec866c3",
            "_dom_classes": [],
            "description": "",
            "_model_name": "HTMLModel",
            "placeholder": "​",
            "_view_module": "@jupyter-widgets/controls",
            "_model_module_version": "1.5.0",
            "value": "",
            "_view_count": null,
            "_view_module_version": "1.5.0",
            "description_tooltip": null,
            "_model_module": "@jupyter-widgets/controls",
            "layout": "IPY_MODEL_2aba4278b50f4a82a61bd8edaf19e870"
          }
        },
        "6d703a980149408c8b2a888ad7166f6f": {
          "model_module": "@jupyter-widgets/controls",
          "model_name": "FloatProgressModel",
          "model_module_version": "1.5.0",
          "state": {
            "_view_name": "ProgressView",
            "style": "IPY_MODEL_23bb04a174da4becaace74250aa9b1f9",
            "_dom_classes": [],
            "description": "",
            "_model_name": "FloatProgressModel",
            "bar_style": "success",
            "max": 170498071,
            "_view_module": "@jupyter-widgets/controls",
            "_model_module_version": "1.5.0",
            "value": 170498071,
            "_view_count": null,
            "_view_module_version": "1.5.0",
            "orientation": "horizontal",
            "min": 0,
            "description_tooltip": null,
            "_model_module": "@jupyter-widgets/controls",
            "layout": "IPY_MODEL_fc3a342d38da486881b2b32312cc6ecf"
          }
        },
        "714f72b7f9f74fc7a21bcc33911969a2": {
          "model_module": "@jupyter-widgets/controls",
          "model_name": "HTMLModel",
          "model_module_version": "1.5.0",
          "state": {
            "_view_name": "HTMLView",
            "style": "IPY_MODEL_2c1df998a76a4aa293bce9bb853967fa",
            "_dom_classes": [],
            "description": "",
            "_model_name": "HTMLModel",
            "placeholder": "​",
            "_view_module": "@jupyter-widgets/controls",
            "_model_module_version": "1.5.0",
            "value": " 170499072/? [00:11&lt;00:00, 15742195.30it/s]",
            "_view_count": null,
            "_view_module_version": "1.5.0",
            "description_tooltip": null,
            "_model_module": "@jupyter-widgets/controls",
            "layout": "IPY_MODEL_07701165ecf8409ab1b3c3535a93f04c"
          }
        },
        "f00ffe09f5274d4da0bd3e07dec866c3": {
          "model_module": "@jupyter-widgets/controls",
          "model_name": "DescriptionStyleModel",
          "model_module_version": "1.5.0",
          "state": {
            "_view_name": "StyleView",
            "_model_name": "DescriptionStyleModel",
            "description_width": "",
            "_view_module": "@jupyter-widgets/base",
            "_model_module_version": "1.5.0",
            "_view_count": null,
            "_view_module_version": "1.2.0",
            "_model_module": "@jupyter-widgets/controls"
          }
        },
        "2aba4278b50f4a82a61bd8edaf19e870": {
          "model_module": "@jupyter-widgets/base",
          "model_name": "LayoutModel",
          "model_module_version": "1.2.0",
          "state": {
            "_view_name": "LayoutView",
            "grid_template_rows": null,
            "right": null,
            "justify_content": null,
            "_view_module": "@jupyter-widgets/base",
            "overflow": null,
            "_model_module_version": "1.2.0",
            "_view_count": null,
            "flex_flow": null,
            "width": null,
            "min_width": null,
            "border": null,
            "align_items": null,
            "bottom": null,
            "_model_module": "@jupyter-widgets/base",
            "top": null,
            "grid_column": null,
            "overflow_y": null,
            "overflow_x": null,
            "grid_auto_flow": null,
            "grid_area": null,
            "grid_template_columns": null,
            "flex": null,
            "_model_name": "LayoutModel",
            "justify_items": null,
            "grid_row": null,
            "max_height": null,
            "align_content": null,
            "visibility": null,
            "align_self": null,
            "height": null,
            "min_height": null,
            "padding": null,
            "grid_auto_rows": null,
            "grid_gap": null,
            "max_width": null,
            "order": null,
            "_view_module_version": "1.2.0",
            "grid_template_areas": null,
            "object_position": null,
            "object_fit": null,
            "grid_auto_columns": null,
            "margin": null,
            "display": null,
            "left": null
          }
        },
        "23bb04a174da4becaace74250aa9b1f9": {
          "model_module": "@jupyter-widgets/controls",
          "model_name": "ProgressStyleModel",
          "model_module_version": "1.5.0",
          "state": {
            "_view_name": "StyleView",
            "_model_name": "ProgressStyleModel",
            "description_width": "",
            "_view_module": "@jupyter-widgets/base",
            "_model_module_version": "1.5.0",
            "_view_count": null,
            "_view_module_version": "1.2.0",
            "bar_color": null,
            "_model_module": "@jupyter-widgets/controls"
          }
        },
        "fc3a342d38da486881b2b32312cc6ecf": {
          "model_module": "@jupyter-widgets/base",
          "model_name": "LayoutModel",
          "model_module_version": "1.2.0",
          "state": {
            "_view_name": "LayoutView",
            "grid_template_rows": null,
            "right": null,
            "justify_content": null,
            "_view_module": "@jupyter-widgets/base",
            "overflow": null,
            "_model_module_version": "1.2.0",
            "_view_count": null,
            "flex_flow": null,
            "width": null,
            "min_width": null,
            "border": null,
            "align_items": null,
            "bottom": null,
            "_model_module": "@jupyter-widgets/base",
            "top": null,
            "grid_column": null,
            "overflow_y": null,
            "overflow_x": null,
            "grid_auto_flow": null,
            "grid_area": null,
            "grid_template_columns": null,
            "flex": null,
            "_model_name": "LayoutModel",
            "justify_items": null,
            "grid_row": null,
            "max_height": null,
            "align_content": null,
            "visibility": null,
            "align_self": null,
            "height": null,
            "min_height": null,
            "padding": null,
            "grid_auto_rows": null,
            "grid_gap": null,
            "max_width": null,
            "order": null,
            "_view_module_version": "1.2.0",
            "grid_template_areas": null,
            "object_position": null,
            "object_fit": null,
            "grid_auto_columns": null,
            "margin": null,
            "display": null,
            "left": null
          }
        },
        "2c1df998a76a4aa293bce9bb853967fa": {
          "model_module": "@jupyter-widgets/controls",
          "model_name": "DescriptionStyleModel",
          "model_module_version": "1.5.0",
          "state": {
            "_view_name": "StyleView",
            "_model_name": "DescriptionStyleModel",
            "description_width": "",
            "_view_module": "@jupyter-widgets/base",
            "_model_module_version": "1.5.0",
            "_view_count": null,
            "_view_module_version": "1.2.0",
            "_model_module": "@jupyter-widgets/controls"
          }
        },
        "07701165ecf8409ab1b3c3535a93f04c": {
          "model_module": "@jupyter-widgets/base",
          "model_name": "LayoutModel",
          "model_module_version": "1.2.0",
          "state": {
            "_view_name": "LayoutView",
            "grid_template_rows": null,
            "right": null,
            "justify_content": null,
            "_view_module": "@jupyter-widgets/base",
            "overflow": null,
            "_model_module_version": "1.2.0",
            "_view_count": null,
            "flex_flow": null,
            "width": null,
            "min_width": null,
            "border": null,
            "align_items": null,
            "bottom": null,
            "_model_module": "@jupyter-widgets/base",
            "top": null,
            "grid_column": null,
            "overflow_y": null,
            "overflow_x": null,
            "grid_auto_flow": null,
            "grid_area": null,
            "grid_template_columns": null,
            "flex": null,
            "_model_name": "LayoutModel",
            "justify_items": null,
            "grid_row": null,
            "max_height": null,
            "align_content": null,
            "visibility": null,
            "align_self": null,
            "height": null,
            "min_height": null,
            "padding": null,
            "grid_auto_rows": null,
            "grid_gap": null,
            "max_width": null,
            "order": null,
            "_view_module_version": "1.2.0",
            "grid_template_areas": null,
            "object_position": null,
            "object_fit": null,
            "grid_auto_columns": null,
            "margin": null,
            "display": null,
            "left": null
          }
        }
      }
    }
  },
  "cells": [
    {
      "cell_type": "markdown",
      "metadata": {
        "id": "view-in-github",
        "colab_type": "text"
      },
      "source": [
        "<a href=\"https://colab.research.google.com/github/isoittech/udemy-Hands-on-PyTorch/blob/main/05_CNN%E3%81%AB%E3%82%88%E3%82%8B%E3%82%AF%E3%83%A9%E3%82%B9%E5%88%86%E9%A1%9E(CIFAR_10).ipynb\" target=\"_parent\"><img src=\"https://colab.research.google.com/assets/colab-badge.svg\" alt=\"Open In Colab\"/></a>"
      ]
    },
    {
      "cell_type": "code",
      "execution_count": 2,
      "metadata": {
        "id": "itEU-GBvz8F_"
      },
      "outputs": [],
      "source": [
        "import torch\n",
        "import torchvision\n",
        "import torch.nn as nn\n",
        "import torch.optim as optim\n",
        "import numpy as np\n",
        "from torchvision import datasets, transforms\n",
        "import matplotlib.pyplot as plt\n",
        "from torch.utils.data import DataLoader"
      ]
    },
    {
      "cell_type": "markdown",
      "source": [
        "# deviceの確認"
      ],
      "metadata": {
        "id": "F53WTUcY7KF1"
      }
    },
    {
      "cell_type": "code",
      "source": [
        "device = \"cuda\" if torch.cuda.is_available() else \"cpu\"\n",
        "device"
      ],
      "metadata": {
        "colab": {
          "base_uri": "https://localhost:8080/",
          "height": 35
        },
        "id": "4fW4SOwj6yWv",
        "outputId": "3ef15653-7698-4d84-ee79-5b4d083e30fa"
      },
      "execution_count": 3,
      "outputs": [
        {
          "output_type": "execute_result",
          "data": {
            "application/vnd.google.colaboratory.intrinsic+json": {
              "type": "string"
            },
            "text/plain": [
              "'cuda'"
            ]
          },
          "metadata": {},
          "execution_count": 3
        }
      ]
    },
    {
      "cell_type": "markdown",
      "source": [
        "# 前処理"
      ],
      "metadata": {
        "id": "KY6VrtKB7XdG"
      }
    },
    {
      "cell_type": "code",
      "source": [
        "transform =transforms.Compose([\n",
        "    transforms.ToTensor(), # 画像をTensorに変える、 チャネルファースト\n",
        "    transforms.Normalize((0.5,), (0.5)) # RGBのチャネルごとに画像全体を正規化（平滑化・標準化）する\n",
        "])\n",
        "\n",
        "train_dataset = datasets.CIFAR10(root=\"./data\", train=True, download=True, transform=transform)\n",
        "validation_dataset = datasets.CIFAR10(root=\"./data\", train=False, download=True, transform=transform)"
      ],
      "metadata": {
        "colab": {
          "base_uri": "https://localhost:8080/",
          "height": 101,
          "referenced_widgets": [
            "e18f5472a649482cb2bd49e13341af53",
            "ff62dbc0c3f44799870601d5ca843efb",
            "2d54b7c074a74656b045c16ea2265163",
            "6d703a980149408c8b2a888ad7166f6f",
            "714f72b7f9f74fc7a21bcc33911969a2",
            "f00ffe09f5274d4da0bd3e07dec866c3",
            "2aba4278b50f4a82a61bd8edaf19e870",
            "23bb04a174da4becaace74250aa9b1f9",
            "fc3a342d38da486881b2b32312cc6ecf",
            "2c1df998a76a4aa293bce9bb853967fa",
            "07701165ecf8409ab1b3c3535a93f04c"
          ]
        },
        "id": "lqHOOF2T7dDu",
        "outputId": "cf546ace-1903-4eae-9675-7c6859d113f8"
      },
      "execution_count": 4,
      "outputs": [
        {
          "output_type": "stream",
          "name": "stdout",
          "text": [
            "Downloading https://www.cs.toronto.edu/~kriz/cifar-10-python.tar.gz to ./data/cifar-10-python.tar.gz\n"
          ]
        },
        {
          "output_type": "display_data",
          "data": {
            "application/vnd.jupyter.widget-view+json": {
              "model_id": "e18f5472a649482cb2bd49e13341af53",
              "version_minor": 0,
              "version_major": 2
            },
            "text/plain": [
              "  0%|          | 0/170498071 [00:00<?, ?it/s]"
            ]
          },
          "metadata": {}
        },
        {
          "output_type": "stream",
          "name": "stdout",
          "text": [
            "Extracting ./data/cifar-10-python.tar.gz to ./data\n",
            "Files already downloaded and verified\n"
          ]
        }
      ]
    },
    {
      "cell_type": "markdown",
      "source": [
        "# 分類"
      ],
      "metadata": {
        "id": "Sd595Du68g0s"
      }
    },
    {
      "cell_type": "code",
      "source": [
        "names = (\"plane\", \"car\", \"bird\", \"cat\", \"deer\", \"dog\", \"frog\", \"horse\", \"ship\", \"truck\")"
      ],
      "metadata": {
        "id": "MN6YOnT18SIe"
      },
      "execution_count": 5,
      "outputs": []
    },
    {
      "cell_type": "markdown",
      "source": [
        "# データセットをデータローダに与える"
      ],
      "metadata": {
        "id": "drKDR9DH8oqE"
      }
    },
    {
      "cell_type": "code",
      "source": [
        "train_dataloader = DataLoader(train_dataset, batch_size=32, shuffle=True)\n",
        "validation_dataloader = DataLoader(validation_dataset, batch_size=32, shuffle=False)"
      ],
      "metadata": {
        "id": "0ZYRmMVr68IP"
      },
      "execution_count": 6,
      "outputs": []
    },
    {
      "cell_type": "markdown",
      "source": [
        "# 画像とラベルを抜く"
      ],
      "metadata": {
        "id": "WVzJ2IBU9Nm0"
      }
    },
    {
      "cell_type": "code",
      "source": [
        "data_iter = iter(train_dataloader)\n",
        "imgs, labels = data_iter.next()\n",
        "print(imgs.size()) # 32=ミニバッチの軸、3=チャネルの軸、32=高さと幅　←チャネルファーストになっている\n",
        "labels"
      ],
      "metadata": {
        "colab": {
          "base_uri": "https://localhost:8080/"
        },
        "id": "LU-zulJ29TCm",
        "outputId": "1d7786ca-dc6d-41de-c59a-3525111e8a4e"
      },
      "execution_count": 7,
      "outputs": [
        {
          "output_type": "stream",
          "name": "stdout",
          "text": [
            "torch.Size([32, 3, 32, 32])\n"
          ]
        },
        {
          "output_type": "execute_result",
          "data": {
            "text/plain": [
              "tensor([1, 0, 0, 6, 0, 2, 6, 5, 3, 8, 8, 0, 4, 2, 6, 2, 0, 4, 9, 7, 6, 1, 7, 2,\n",
              "        0, 2, 9, 3, 6, 8, 8, 7])"
            ]
          },
          "metadata": {},
          "execution_count": 7
        }
      ]
    },
    {
      "cell_type": "code",
      "source": [
        "img = imgs[0]\n",
        "# チャネルファーストからチャネルラストにする\n",
        "img_permute = img.permute(1, 2, 0)\n",
        "\n",
        "# 画像の明るさを調整\n",
        "img_permute = 0.5 * img_permute + 0.5\n",
        "img_permute = np.clip(img_permute, 0, 1)\n",
        "\n",
        "# 画像表示\n",
        "plt.imshow(img_permute)"
      ],
      "metadata": {
        "colab": {
          "base_uri": "https://localhost:8080/",
          "height": 283
        },
        "id": "gOJrCUjc95kU",
        "outputId": "6a404f4b-3eef-46f7-d929-493147e8d5bf"
      },
      "execution_count": 8,
      "outputs": [
        {
          "output_type": "execute_result",
          "data": {
            "text/plain": [
              "<matplotlib.image.AxesImage at 0x7f097691c410>"
            ]
          },
          "metadata": {},
          "execution_count": 8
        },
        {
          "output_type": "display_data",
          "data": {
            "image/png": "[encoded data removed]",
            "text/plain": [
              "<Figure size 432x288 with 1 Axes>"
            ]
          },
          "metadata": {
            "needs_background": "light"
          }
        }
      ]
    },
    {
      "cell_type": "markdown",
      "source": [
        "# CNNモデル定義"
      ],
      "metadata": {
        "id": "O2YSpGF9-vg5"
      }
    },
    {
      "cell_type": "code",
      "source": [
        "class CNN(nn.Module):\n",
        "    def __init__(self, num_classes): # 10クラスだったら10を与える\n",
        "        super().__init__()\n",
        "        # ネットワーク定義\n",
        "        self.features = nn.Sequential(\n",
        "            # inにはRGBのカラー画像を与えるので3を指定, outには任意\n",
        "            # kernel_sizeは5  --> 2マスずつ縮小するので縮小させないためpaddingに2を与える\n",
        "            nn.Conv2d(in_channels=3, out_channels=64, kernel_size=5, padding=2),\n",
        "            nn.ReLU(inplace=True),\n",
        "            nn.MaxPool2d(kernel_size=2), # 32x32の画像が16x16になる\n",
        "\n",
        "            nn.Conv2d(in_channels=64, out_channels=128, kernel_size=3, padding=1),\n",
        "            nn.ReLU(inplace=True),\n",
        "            nn.MaxPool2d(kernel_size=2), # 8x8になる\n",
        "\n",
        "            nn.Conv2d(in_channels=128, out_channels=256, kernel_size=3, padding=1),\n",
        "            nn.ReLU(inplace=True),\n",
        "            nn.MaxPool2d(kernel_size=2), # 4x4になる\n",
        "\n",
        "            nn.Conv2d(in_channels=256, out_channels=128, kernel_size=3, padding=1),\n",
        "            nn.ReLU(inplace=True),\n",
        "        )\n",
        "        # 特徴抽出\n",
        "        # 全結合層\n",
        "        # 1次元のベクトルにして渡す必要があるので、in_featuresには、\n",
        "        # 最後のMaxPooling出力サイズ4x4とConv2dの出力サイズ128を積算したものを渡す\n",
        "        self.classifier = nn.Linear(in_features=4 * 4 * 128, out_features=num_classes)\n",
        "    \n",
        "    def forward(self, x):\n",
        "        # 4x4x128の画像が得られる\n",
        "        x = self.features(x)\n",
        "\n",
        "        # classifierに与えるための変換\n",
        "        # x.size(0)はバッチ数の32が返ってくる\n",
        "        # viewの第2引数に-1を渡すと、4x4x128のベクトルデータが32行分、xに入る\n",
        "        x = x.view(x.size(0), -1)\n",
        "        # print(f\"x-size: {x.size()}\") # x-size: torch.Size([32, 2048])\n",
        "\n",
        "        x = self.classifier(x)\n",
        "        return x"
      ],
      "metadata": {
        "id": "g5mcSdBA9hC8"
      },
      "execution_count": 9,
      "outputs": []
    },
    {
      "cell_type": "markdown",
      "source": [
        "# モデル定義"
      ],
      "metadata": {
        "id": "qu6GmkAjIoZP"
      }
    },
    {
      "cell_type": "code",
      "source": [
        "model = CNN(10)\n",
        "model.to(device) # GPUに置く"
      ],
      "metadata": {
        "colab": {
          "base_uri": "https://localhost:8080/"
        },
        "id": "oUQo8olcIeMA",
        "outputId": "beefaf70-467d-4547-e6ad-bd91163e8423"
      },
      "execution_count": 10,
      "outputs": [
        {
          "output_type": "execute_result",
          "data": {
            "text/plain": [
              "CNN(\n",
              "  (features): Sequential(\n",
              "    (0): Conv2d(3, 64, kernel_size=(5, 5), stride=(1, 1), padding=(2, 2))\n",
              "    (1): ReLU(inplace=True)\n",
              "    (2): MaxPool2d(kernel_size=2, stride=2, padding=0, dilation=1, ceil_mode=False)\n",
              "    (3): Conv2d(64, 128, kernel_size=(3, 3), stride=(1, 1), padding=(1, 1))\n",
              "    (4): ReLU(inplace=True)\n",
              "    (5): MaxPool2d(kernel_size=2, stride=2, padding=0, dilation=1, ceil_mode=False)\n",
              "    (6): Conv2d(128, 256, kernel_size=(3, 3), stride=(1, 1), padding=(1, 1))\n",
              "    (7): ReLU(inplace=True)\n",
              "    (8): MaxPool2d(kernel_size=2, stride=2, padding=0, dilation=1, ceil_mode=False)\n",
              "    (9): Conv2d(256, 128, kernel_size=(3, 3), stride=(1, 1), padding=(1, 1))\n",
              "    (10): ReLU(inplace=True)\n",
              "  )\n",
              "  (classifier): Linear(in_features=2048, out_features=10, bias=True)\n",
              ")"
            ]
          },
          "metadata": {},
          "execution_count": 10
        }
      ]
    },
    {
      "cell_type": "markdown",
      "source": [
        "# 損失関数と最適化\n",
        "\n",
        "weight_decayでL2正則化を行う。重み付けが大きくなり過ぎないようにするためのもの。"
      ],
      "metadata": {
        "id": "G2McFtPxJCQG"
      }
    },
    {
      "cell_type": "code",
      "source": [
        "criterion = nn.CrossEntropyLoss()\n",
        "optimizer = optim.Adam(model.parameters(), lr=0.001, weight_decay=5e-4)"
      ],
      "metadata": {
        "id": "HcIihG4IIutg"
      },
      "execution_count": 11,
      "outputs": []
    },
    {
      "cell_type": "code",
      "source": [
        "num_epochs = 15\n",
        "losses = []\n",
        "accs = []\n",
        "val_losses = []\n",
        "val_accs = []\n",
        "for epoch in range(num_epochs):\n",
        "    running_loss = 0.0\n",
        "    running_acc = 0.0\n",
        "    for imgs, labels in train_dataloader:\n",
        "        imgs = imgs.to(device)\n",
        "        labels = labels.to(device)\n",
        "        optimizer.zero_grad()\n",
        "        output = model(imgs)\n",
        "        loss = criterion(output, labels)\n",
        "        loss.backward()\n",
        "        running_loss += loss.item()\n",
        "        pred = torch.argmax(output, dim=1)\n",
        "        running_acc += torch.mean(pred.eq(labels).float())\n",
        "        optimizer.step()\n",
        "    running_loss /= len(train_dataloader)\n",
        "    running_acc /= len(train_dataloader)\n",
        "    losses.append(running_loss)\n",
        "    accs.append(running_acc)\n",
        "\n",
        "    # \n",
        "    # validation loop\n",
        "    # \n",
        "    val_running_loss = 0.0\n",
        "    val_running_acc = 0.0\n",
        "    for val_imgs, val_labels  in validation_dataloader:\n",
        "        val_imgs = val_imgs.to(device)\n",
        "        val_labels = val_labels.to(device)\n",
        "        val_output = model(val_imgs)\n",
        "        val_loss = criterion(val_output, val_labels)\n",
        "        val_running_loss += val_loss.item()\n",
        "        val_pred = torch.argmax( val_output, dim=1)\n",
        "        val_running_acc += torch.mean(val_pred.eq(val_labels).float())\n",
        "    val_running_loss /= len(validation_dataloader)\n",
        "    val_running_acc /= len(validation_dataloader)\n",
        "    val_losses.append(val_running_loss)\n",
        "    val_accs.append(val_running_acc)\n",
        "    print(\"epoch: {}, loss: {}, acc: {}, \\\n",
        "        loss: {}, val acc: {}\".format(epoch, running_loss, running_acc, val_running_loss, val_running_acc))"
      ],
      "metadata": {
        "colab": {
          "base_uri": "https://localhost:8080/"
        },
        "id": "pykUeX6EJSbU",
        "outputId": "d3b62fc0-90f3-47fd-996e-7a454a330c35"
      },
      "execution_count": 12,
      "outputs": [
        {
          "output_type": "stream",
          "name": "stdout",
          "text": [
            "epoch: 0, loss: 1.350253400708038, acc: 0.5077375173568726,         loss: 1.0397167811378503, val acc: 0.6286940574645996\n",
            "epoch: 1, loss: 0.8921832289744552, acc: 0.6857005953788757,         loss: 0.7985311004871758, val acc: 0.719648540019989\n",
            "epoch: 2, loss: 0.7149612846202142, acc: 0.7503198981285095,         loss: 0.7739666942209481, val acc: 0.7394168972969055\n",
            "epoch: 3, loss: 0.6085705644929554, acc: 0.787148118019104,         loss: 0.7260540701901189, val acc: 0.7574880123138428\n",
            "epoch: 4, loss: 0.5271705172512673, acc: 0.8156989812850952,         loss: 0.7364056285577841, val acc: 0.7564895749092102\n",
            "epoch: 5, loss: 0.4660383129798672, acc: 0.8357725739479065,         loss: 0.7126181607905288, val acc: 0.7642771601676941\n",
            "epoch: 6, loss: 0.4127720978613931, acc: 0.8539667129516602,         loss: 0.700663765303243, val acc: 0.7677715420722961\n",
            "epoch: 7, loss: 0.36747990171076467, acc: 0.871141254901886,         loss: 0.7347836853882757, val acc: 0.7669728398323059\n",
            "epoch: 8, loss: 0.32933083888064646, acc: 0.8840371370315552,         loss: 0.8295428422502816, val acc: 0.7480031847953796\n",
            "epoch: 9, loss: 0.30656740269835225, acc: 0.8919745683670044,         loss: 0.7978627656976255, val acc: 0.7654752135276794\n",
            "epoch: 10, loss: 0.27887533410492227, acc: 0.9011516571044922,         loss: 0.8070930135421479, val acc: 0.7678713798522949\n",
            "epoch: 11, loss: 0.25748938050118686, acc: 0.9079094529151917,         loss: 0.8859629067369162, val acc: 0.7551916837692261\n",
            "epoch: 12, loss: 0.24764960791894206, acc: 0.9119082093238831,         loss: 0.8424280710494556, val acc: 0.7635782361030579\n",
            "epoch: 13, loss: 0.2320639261068992, acc: 0.9167866110801697,         loss: 0.9076308171970014, val acc: 0.7563897371292114\n",
            "epoch: 14, loss: 0.2210726647346411, acc: 0.9211252331733704,         loss: 0.8968387773147406, val acc: 0.7581868767738342\n"
          ]
        }
      ]
    },
    {
      "cell_type": "markdown",
      "source": [
        "# グラフで確認してみる"
      ],
      "metadata": {
        "id": "0aHxdZueiysr"
      }
    },
    {
      "cell_type": "code",
      "source": [
        "plt.style.use(\"ggplot\")\n",
        "plt.plot(losses, label=\"train loss\")\n",
        "plt.plot(val_losses, label=\"validation loss\")\n",
        "plt.legend()"
      ],
      "metadata": {
        "colab": {
          "base_uri": "https://localhost:8080/",
          "height": 285
        },
        "id": "tNrFnLBei4ia",
        "outputId": "2c3f8863-9714-47ad-efbf-e95204cac641"
      },
      "execution_count": 14,
      "outputs": [
        {
          "output_type": "execute_result",
          "data": {
            "text/plain": [
              "<matplotlib.legend.Legend at 0x7f097589f810>"
            ]
          },
          "metadata": {},
          "execution_count": 14
        },
        {
          "output_type": "display_data",
          "data": {
            "image/png": "[encoded data removed]",
            "text/plain": [
              "<Figure size 432x288 with 1 Axes>"
            ]
          },
          "metadata": {}
        }
      ]
    },
    {
      "cell_type": "code",
      "source": [
        "plt.plot(accs, label=\"train acc\")\n",
        "plt.plot(val_accs, label=\"validation acc\")\n",
        "plt.legend()"
      ],
      "metadata": {
        "colab": {
          "base_uri": "https://localhost:8080/",
          "height": 282
        },
        "id": "y9P7mHJwjK4s",
        "outputId": "2b3ea2a2-8622-41f5-e53f-3cb32976c448"
      },
      "execution_count": 15,
      "outputs": [
        {
          "output_type": "execute_result",
          "data": {
            "text/plain": [
              "<matplotlib.legend.Legend at 0x7f0975929610>"
            ]
          },
          "metadata": {},
          "execution_count": 15
        },
        {
          "output_type": "display_data",
          "data": {
            "image/png": "[encoded data removed]",
            "text/plain": [
              "<Figure size 432x288 with 1 Axes>"
            ]
          },
          "metadata": {}
        }
      ]
    }
  ]
}