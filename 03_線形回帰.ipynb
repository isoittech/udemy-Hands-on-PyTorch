{
  "nbformat": 4,
  "nbformat_minor": 0,
  "metadata": {
    "colab": {
      "name": "線形回帰.ipynb",
      "provenance": [],
      "collapsed_sections": [],
      "authorship_tag": "ABX9TyO7rpCFRGlXGioqIaWwJd0G",
      "include_colab_link": true
    },
    "kernelspec": {
      "name": "python3",
      "display_name": "Python 3"
    },
    "language_info": {
      "name": "python"
    }
  },
  "cells": [
    {
      "cell_type": "markdown",
      "metadata": {
        "id": "view-in-github",
        "colab_type": "text"
      },
      "source": [
        "<a href=\"https://colab.research.google.com/github/isoittech/udemy-Hands-on-PyTorch/blob/main/%E7%B7%9A%E5%BD%A2%E5%9B%9E%E5%B8%B0.ipynb\" target=\"_parent\"><img src=\"https://colab.research.google.com/assets/colab-badge.svg\" alt=\"Open In Colab\"/></a>"
      ]
    },
    {
      "cell_type": "code",
      "metadata": {
        "id": "s-YWWWru-SJ0"
      },
      "source": [
        "import torch\n",
        "import torch.nn as nn\n",
        "import torch.optim as optim\n",
        "import matplotlib.pyplot as plt\n",
        "import numpy as np\n",
        "%matplotlib inline\n",
        "plt.style.use(\"ggplot\")\n"
      ],
      "execution_count": 3,
      "outputs": []
    },
    {
      "cell_type": "code",
      "metadata": {
        "colab": {
          "base_uri": "https://localhost:8080/"
        },
        "id": "dm0otVcWKv6h",
        "outputId": "81206b12-19dd-4b24-ad82-bf57fd37c4c8"
      },
      "source": [
        "torch.manual_seed(123)"
      ],
      "execution_count": 4,
      "outputs": [
        {
          "output_type": "execute_result",
          "data": {
            "text/plain": [
              "<torch._C.Generator at 0x7fd3ed3f9ad0>"
            ]
          },
          "metadata": {},
          "execution_count": 4
        }
      ]
    },
    {
      "cell_type": "code",
      "metadata": {
        "id": "cvLYMomnK2Kc"
      },
      "source": [
        "a = 3\n",
        "b = 2 \n",
        "x = torch.linspace(0, 5, 100).view(100, 1)"
      ],
      "execution_count": 5,
      "outputs": []
    },
    {
      "cell_type": "code",
      "metadata": {
        "id": "n36-BaVpLl7A"
      },
      "source": [
        "eps = torch.randn(100, 1)\n",
        "y = a * x + b + eps"
      ],
      "execution_count": 6,
      "outputs": []
    },
    {
      "cell_type": "code",
      "metadata": {
        "colab": {
          "base_uri": "https://localhost:8080/",
          "height": 283
        },
        "id": "oheSaPyvL1OF",
        "outputId": "2431437d-fad6-4e2c-a3bb-0d517b6964d0"
      },
      "source": [
        "plt.scatter(x, y)"
      ],
      "execution_count": 7,
      "outputs": [
        {
          "output_type": "execute_result",
          "data": {
            "text/plain": [
              "<matplotlib.collections.PathCollection at 0x7fd3ec2c6710>"
            ]
          },
          "metadata": {},
          "execution_count": 7
        },
        {
          "output_type": "display_data",
          "data": {
            "image/png": "[encoded data removed]",
            "text/plain": [
              "<Figure size 432x288 with 1 Axes>"
            ]
          },
          "metadata": {}
        }
      ]
    },
    {
      "cell_type": "code",
      "metadata": {
        "id": "d5YVxhQHL4zd"
      },
      "source": [
        "class LR(nn.Module):\n",
        "    def __init__(self):\n",
        "        super().__init__()\n",
        "        self.linear = nn.Linear(in_features=1, out_features=1)\n",
        "    def forward(self, x):\n",
        "        output = self.linear(x)\n",
        "        return output"
      ],
      "execution_count": 8,
      "outputs": []
    },
    {
      "cell_type": "code",
      "metadata": {
        "id": "liW3S3XnMVyc"
      },
      "source": [
        "model = LR()"
      ],
      "execution_count": 9,
      "outputs": []
    },
    {
      "cell_type": "code",
      "metadata": {
        "colab": {
          "base_uri": "https://localhost:8080/"
        },
        "id": "XtITa_6xMYNl",
        "outputId": "fa726914-0d19-4641-9ae6-7eb99feea18c"
      },
      "source": [
        "x_test = torch.tensor([[1.0],[2.0]])\n",
        "model(x_test)"
      ],
      "execution_count": 10,
      "outputs": [
        {
          "output_type": "execute_result",
          "data": {
            "text/plain": [
              "tensor([[-0.6505],\n",
              "        [-1.4166]], grad_fn=<AddmmBackward0>)"
            ]
          },
          "metadata": {},
          "execution_count": 10
        }
      ]
    },
    {
      "cell_type": "code",
      "metadata": {
        "colab": {
          "base_uri": "https://localhost:8080/"
        },
        "id": "06VuvxL8Mkfd",
        "outputId": "fd3c912c-a7e7-4a6a-c7ae-e771d4af439e"
      },
      "source": [
        "x2 = torch.linspace(0, 3, 100).view(100,1)\n",
        "x2.size()"
      ],
      "execution_count": 11,
      "outputs": [
        {
          "output_type": "execute_result",
          "data": {
            "text/plain": [
              "torch.Size([100, 1])"
            ]
          },
          "metadata": {},
          "execution_count": 11
        }
      ]
    },
    {
      "cell_type": "code",
      "metadata": {
        "colab": {
          "base_uri": "https://localhost:8080/",
          "height": 282
        },
        "id": "FwnLTaVFMrdr",
        "outputId": "fa925c54-eeb8-4470-d6e7-c289c063bbb4"
      },
      "source": [
        "y_pred = model(x2)\n",
        "plt.plot(x2, y_pred.detach(), label=\"prediction\")\n",
        "plt.scatter(x,y,label=\"data\")\n",
        "plt.legend()"
      ],
      "execution_count": 13,
      "outputs": [
        {
          "output_type": "execute_result",
          "data": {
            "text/plain": [
              "<matplotlib.legend.Legend at 0x7fd3ebd6a290>"
            ]
          },
          "metadata": {},
          "execution_count": 13
        },
        {
          "output_type": "display_data",
          "data": {
            "image/png": "[encoded data removed]",
            "text/plain": [
              "<Figure size 432x288 with 1 Axes>"
            ]
          },
          "metadata": {}
        }
      ]
    },
    {
      "cell_type": "code",
      "metadata": {
        "id": "Y5yuifaINEGU"
      },
      "source": [
        "criterion = nn.MSELoss()\n",
        "optimizer = optim.SGD(model.parameters(), lr=0.001)\n"
      ],
      "execution_count": 14,
      "outputs": []
    },
    {
      "cell_type": "code",
      "metadata": {
        "colab": {
          "base_uri": "https://localhost:8080/"
        },
        "id": "9sXAHITtNVt9",
        "outputId": "545738d7-4329-4011-8821-6fb37d6b8b80"
      },
      "source": [
        "losses = []\n",
        "num_epoch = 500\n",
        "for epoch in range(num_epoch):\n",
        "    optimizer.zero_grad()\n",
        "    y_pred = model(x)\n",
        "    loss = criterion(y_pred, y)\n",
        "    loss.backward()\n",
        "    optimizer.step()\n",
        "    if epoch % 10 == 0:\n",
        "        print(\"epoch: {}, loss: {}\".format(epoch, loss.item()))\n",
        "        losses.append(loss.item())"
      ],
      "execution_count": 16,
      "outputs": [
        {
          "output_type": "stream",
          "name": "stdout",
          "text": [
            "epoch: 0, loss: 156.7843017578125\n",
            "epoch: 10, loss: 108.7425765991211\n",
            "epoch: 20, loss: 75.52831268310547\n",
            "epoch: 30, loss: 52.56508255004883\n",
            "epoch: 40, loss: 36.68894958496094\n",
            "epoch: 50, loss: 25.712505340576172\n",
            "epoch: 60, loss: 18.12348175048828\n",
            "epoch: 70, loss: 12.876379013061523\n",
            "epoch: 80, loss: 9.248371124267578\n",
            "epoch: 90, loss: 6.7397308349609375\n",
            "epoch: 100, loss: 5.004981517791748\n",
            "epoch: 110, loss: 3.805262565612793\n",
            "epoch: 120, loss: 2.975445508956909\n",
            "epoch: 130, loss: 2.4013638496398926\n",
            "epoch: 140, loss: 2.0040884017944336\n",
            "epoch: 150, loss: 1.7290524244308472\n",
            "epoch: 160, loss: 1.5385342836380005\n",
            "epoch: 170, loss: 1.4064483642578125\n",
            "epoch: 180, loss: 1.3147625923156738\n",
            "epoch: 190, loss: 1.2510120868682861\n",
            "epoch: 200, loss: 1.206579327583313\n",
            "epoch: 210, loss: 1.1755024194717407\n",
            "epoch: 220, loss: 1.1536647081375122\n",
            "epoch: 230, loss: 1.1382169723510742\n",
            "epoch: 240, loss: 1.127191185951233\n",
            "epoch: 250, loss: 1.1192245483398438\n",
            "epoch: 260, loss: 1.1133769750595093\n",
            "epoch: 270, loss: 1.1089966297149658\n",
            "epoch: 280, loss: 1.1056344509124756\n",
            "epoch: 290, loss: 1.102979063987732\n",
            "epoch: 300, loss: 1.1008155345916748\n",
            "epoch: 310, loss: 1.0989948511123657\n",
            "epoch: 320, loss: 1.097414255142212\n",
            "epoch: 330, loss: 1.0960029363632202\n",
            "epoch: 340, loss: 1.0947109460830688\n",
            "epoch: 350, loss: 1.0935050249099731\n",
            "epoch: 360, loss: 1.092361330986023\n",
            "epoch: 370, loss: 1.0912634134292603\n",
            "epoch: 380, loss: 1.0901999473571777\n",
            "epoch: 390, loss: 1.0891633033752441\n",
            "epoch: 400, loss: 1.088147759437561\n",
            "epoch: 410, loss: 1.0871498584747314\n",
            "epoch: 420, loss: 1.086166501045227\n",
            "epoch: 430, loss: 1.0851962566375732\n",
            "epoch: 440, loss: 1.0842379331588745\n",
            "epoch: 450, loss: 1.0832899808883667\n",
            "epoch: 460, loss: 1.0823521614074707\n",
            "epoch: 470, loss: 1.0814239978790283\n",
            "epoch: 480, loss: 1.0805048942565918\n",
            "epoch: 490, loss: 1.0795948505401611\n"
          ]
        }
      ]
    },
    {
      "cell_type": "code",
      "metadata": {
        "colab": {
          "base_uri": "https://localhost:8080/",
          "height": 282
        },
        "id": "Xdf-BiyzOJ4Z",
        "outputId": "721363f5-fd99-47ed-fda2-59aaedd1aaab"
      },
      "source": [
        "plt.plot(losses)"
      ],
      "execution_count": 17,
      "outputs": [
        {
          "output_type": "execute_result",
          "data": {
            "text/plain": [
              "[<matplotlib.lines.Line2D at 0x7fd3ebc65b10>]"
            ]
          },
          "metadata": {},
          "execution_count": 17
        },
        {
          "output_type": "display_data",
          "data": {
            "image/png": "[encoded data removed]",
            "text/plain": [
              "<Figure size 432x288 with 1 Axes>"
            ]
          },
          "metadata": {}
        }
      ]
    },
    {
      "cell_type": "code",
      "metadata": {
        "colab": {
          "base_uri": "https://localhost:8080/",
          "height": 283
        },
        "id": "lFpxvN_wOTiN",
        "outputId": "7135af22-579d-4e8a-adeb-26254a40989c"
      },
      "source": [
        "x_test = torch.linspace(0, 5, 100).view(100, 1)\n",
        "y_test = model(x_test)\n",
        "plt.plot(x_test, y_test.detach(), label=\"prediction\")\n",
        "plt.scatter(x, y, label=\"data\")\n",
        "plt.legend()"
      ],
      "execution_count": 18,
      "outputs": [
        {
          "output_type": "execute_result",
          "data": {
            "text/plain": [
              "<matplotlib.legend.Legend at 0x7fd3ebbeb690>"
            ]
          },
          "metadata": {},
          "execution_count": 18
        },
        {
          "output_type": "display_data",
          "data": {
            "image/png": "[encoded data removed]",
            "text/plain": [
              "<Figure size 432x288 with 1 Axes>"
            ]
          },
          "metadata": {}
        }
      ]
    }
  ]
}
